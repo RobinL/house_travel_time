{
 "cells": [
  {
   "cell_type": "code",
   "execution_count": 92,
   "metadata": {
    "collapsed": true
   },
   "outputs": [],
   "source": [
    "import ipyleaflet"
   ]
  },
  {
   "cell_type": "code",
   "execution_count": 93,
   "metadata": {},
   "outputs": [
    {
     "data": {
      "application/vnd.jupyter.widget-view+json": {
       "model_id": "79dec33f33dc4833a6b062abef5d16a9"
      }
     },
     "metadata": {},
     "output_type": "display_data"
    }
   ],
   "source": [
    "from ipywidgets import widgets\n",
    "text = widgets.Text()\n",
    "\n",
    "def handle_submit(sender):\n",
    "    print(text.value)\n",
    "    \n",
    "text.on_submit(handle_submit)\n",
    "text"
   ]
  },
  {
   "cell_type": "code",
   "execution_count": 94,
   "metadata": {},
   "outputs": [],
   "source": [
    "def handle_draw(self, action, geo_json):\n",
    "    print(action)\n",
    "    print(geo_json)"
   ]
  },
  {
   "cell_type": "code",
   "execution_count": 102,
   "metadata": {},
   "outputs": [
    {
     "data": {
      "application/vnd.jupyter.widget-view+json": {
       "model_id": "2faa6b1da6d3434797c8196588726f22"
      }
     },
     "metadata": {},
     "output_type": "display_data"
    },
    {
     "name": "stdout",
     "output_type": "stream",
     "text": [
      "created\n",
      "{'type': 'Feature', 'properties': {'style': {'icon': {'options': {'className': '', 'iconSize': [25, 41], 'iconAnchor': [12, 41], 'popupAnchor': [1, -34], 'shadowSize': [41, 41]}, '_initHooksCalled': True}, 'title': '', 'alt': '', 'clickable': True, 'draggable': False, 'keyboard': True, 'zIndexOffset': 0, 'opacity': 1, 'riseOnHover': False, 'riseOffset': 250}}, 'geometry': {'type': 'Point', 'coordinates': [-0.2040410041809082, 51.55874339660664]}}\n",
      "edited\n",
      "{'type': 'Feature', 'properties': {'style': {'icon': {'options': {'className': '', 'iconSize': [25, 41], 'iconAnchor': [12, 41], 'popupAnchor': [1, -34], 'shadowSize': [41, 41]}, '_initHooksCalled': True}, 'title': '', 'alt': '', 'clickable': True, 'draggable': False, 'keyboard': True, 'zIndexOffset': 0, 'opacity': 1, 'riseOnHover': False, 'riseOffset': 250}}, 'geometry': {'type': 'Point', 'coordinates': [-0.34482479095458984, 51.73904168771313]}}\n",
      "edited\n",
      "{'type': 'Feature', 'properties': {'style': {'icon': {'options': {'className': '', 'iconSize': [25, 41], 'iconAnchor': [12, 41], 'popupAnchor': [1, -34], 'shadowSize': [41, 41]}, '_initHooksCalled': True}, 'title': '', 'alt': '', 'clickable': True, 'draggable': False, 'keyboard': True, 'zIndexOffset': 0, 'opacity': 1, 'riseOnHover': False, 'riseOffset': 250}}, 'geometry': {'type': 'Point', 'coordinates': [-0.3355121612548828, 51.739732634387934]}}\n"
     ]
    }
   ],
   "source": [
    "m = ipyleaflet.Map(center=center, zoom=zoom)\n",
    "# https://github.com/ellisonbg/ipyleaflet/blob/master/ipyleaflet/leaflet.py#L311\n",
    "dc = ipyleaflet.DrawControl(marker = {'shapeOptions':None}, polygon = {}, polyline = {})\n",
    "dc.on_draw(handle_draw)\n",
    "m.add_control(dc)\n",
    "m"
   ]
  },
  {
   "cell_type": "code",
   "execution_count": null,
   "metadata": {},
   "outputs": [],
   "source": []
  },
  {
   "cell_type": "markdown",
   "metadata": {},
   "source": [
    "Ultimate aim:\n",
    "\n",
    "Have a dataset stored in a sqlite database (?) \n",
    "\n",
    "Each row is potential house location\n",
    "\n",
    "User:\n",
    "\n",
    "Able to enter postcode or select point on map.\n",
    "Functions that then compute row.\n",
    "Option to add to database\n"
   ]
  },
  {
   "cell_type": "code",
   "execution_count": null,
   "metadata": {},
   "outputs": [],
   "source": [
    "# Function that given lat lng finds best train station, reports train station and travel time to central london station.  \n",
    "# Then how long to cycle from central london station to office.\n",
    "\n",
    "# Function that does the same if office was in Canary Wharf"
   ]
  },
  {
   "cell_type": "code",
   "execution_count": 91,
   "metadata": {},
   "outputs": [
    {
     "ename": "AttributeError",
     "evalue": "'Marker' object has no attribute 'controls'",
     "output_type": "error",
     "traceback": [
      "\u001b[0;31m---------------------------------------------------------------------------\u001b[0m",
      "\u001b[0;31mAttributeError\u001b[0m                            Traceback (most recent call last)",
      "\u001b[0;32m<ipython-input-91-2a415c2a91bd>\u001b[0m in \u001b[0;36m<module>\u001b[0;34m()\u001b[0m\n\u001b[0;32m----> 1\u001b[0;31m \u001b[0mm\u001b[0m\u001b[0;34m.\u001b[0m\u001b[0mcontrols\u001b[0m\u001b[0;34m\u001b[0m\u001b[0m\n\u001b[0m",
      "\u001b[0;31mAttributeError\u001b[0m: 'Marker' object has no attribute 'controls'"
     ]
    }
   ],
   "source": []
  },
  {
   "cell_type": "code",
   "execution_count": null,
   "metadata": {
    "collapsed": true
   },
   "outputs": [],
   "source": [
    "# "
   ]
  }
 ],
 "metadata": {
  "kernelspec": {
   "display_name": "Python 3",
   "language": "python",
   "name": "python3"
  },
  "language_info": {
   "codemirror_mode": {
    "name": "ipython",
    "version": 3
   },
   "file_extension": ".py",
   "mimetype": "text/x-python",
   "name": "python",
   "nbconvert_exporter": "python",
   "pygments_lexer": "ipython3",
   "version": "3.6.1"
  }
 },
 "nbformat": 4,
 "nbformat_minor": 2
}
