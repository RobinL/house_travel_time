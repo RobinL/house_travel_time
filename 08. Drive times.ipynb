{
 "cells": [
  {
   "cell_type": "code",
   "execution_count": 5,
   "metadata": {},
   "outputs": [],
   "source": [
    "import pandas as pd \n",
    "from mylibrary.connections import cursor, conn, engine, Automapped_Base, session\n",
    "\n"
   ]
  },
  {
   "cell_type": "code",
   "execution_count": null,
   "metadata": {},
   "outputs": [],
   "source": [
    "sql = \"\"\"\n",
    "select station_name, icscode, lat, lng from tt_h.all_stations \n",
    "where lat < 53.39926695813 \n",
    "and lng > -2.54 and \n",
    "in_sprawl = false\n",
    "\"\"\"\n",
    "\n",
    "df = pd.read_sql(sql, conn)"
   ]
  },
  {
   "cell_type": "code",
   "execution_count": null,
   "metadata": {},
   "outputs": [],
   "source": [
    "# df[\"dest_pc\"]= \"OX145FP\"\n",
    "# df2 = df.copy()\n",
    "# df2[\"dest_pc\"] = \"CB113QY\"\n",
    "\n",
    "# df21 = df.copy()\n",
    "# df21[\"dest_pc\"] = \"CM25LB\"\n",
    "\n",
    "# df3 = pd.concat([df,df2,df3])\n",
    "# num = len(df3)"
   ]
  },
  {
   "cell_type": "code",
   "execution_count": null,
   "metadata": {},
   "outputs": [],
   "source": [
    "df3[\"id\"] = range(len(df3))"
   ]
  },
  {
   "cell_type": "code",
   "execution_count": null,
   "metadata": {},
   "outputs": [],
   "source": []
  },
  {
   "cell_type": "code",
   "execution_count": null,
   "metadata": {},
   "outputs": [],
   "source": [
    "# Create new table of each station and drive time and distane \n",
    "\n",
    "# df3.to_sql(\"stations_drivetime\", engine, schema=\"tt_h\", if_exists=\"replace\", index=False)\n",
    "\n",
    "# sql = \"\"\"\n",
    "\n",
    "# ALTER TABLE tt_h.stations_drivetime  ADD PRIMARY KEY (id);\n",
    "\n",
    "# ALTER TABLE tt_h.stations_drivetime ADD google_request text;\n",
    "# UPDATE tt_h.stations_drivetime SET google_request = null;\n",
    "\n",
    "# ALTER TABLE tt_h.stations_drivetime ADD google_response text;\n",
    "# UPDATE tt_h.stations_drivetime SET google_response = null;\n",
    "\n",
    "# ALTER TABLE tt_h.stations_drivetime ADD drive_minutes float;\n",
    "# UPDATE tt_h.stations_drivetime SET drive_minutes = null;\n",
    "\n",
    "# ALTER TABLE tt_h.stations_drivetime ADD drive_miles float;\n",
    "# UPDATE tt_h.stations_drivetime SET drive_miles = null;\n",
    "\n",
    "\n",
    "# \"\"\"\n",
    "# cursor.execute(sql)\n",
    "# conn.commit()"
   ]
  },
  {
   "cell_type": "code",
   "execution_count": 12,
   "metadata": {},
   "outputs": [
    {
     "data": {
      "text/plain": [
       "727"
      ]
     },
     "execution_count": 12,
     "metadata": {},
     "output_type": "execute_result"
    }
   ],
   "source": [
    "# Then populate with drive times\n",
    "sql = \"\"\"\n",
    "select id from tt_h.stations_drivetime where drive_minutes is null\n",
    "\"\"\"\n",
    "ids = pd.read_sql(sql, conn)\n",
    "ids = [int(i) for i in ids[\"id\"]]\n",
    "len(ids)"
   ]
  },
  {
   "cell_type": "code",
   "execution_count": 13,
   "metadata": {},
   "outputs": [
    {
     "name": "stdout",
     "output_type": "stream",
     "text": [
      "error on 0\n"
     ]
    }
   ],
   "source": [
    "from mylibrary.connections import cursor, conn, engine, Automapped_Base, session\n",
    "Stations = Automapped_Base.classes.stations_drivetime\n",
    "from google import get_drive_info\n",
    "\n",
    "counter = 0\n",
    "for id in ids:\n",
    "    station = session.query(Stations).filter(Stations.id == id).one()\n",
    "    \n",
    "    try:\n",
    "        info = get_drive_info(origin_lat = station.lat , origin_lng = station.lng , dest_pc = station.dest_pc)\n",
    "        station.google_request = info[\"request\"]\n",
    "        station.google_response = info[\"response\"]\n",
    "        station.drive_minutes = info[\"minutes\"]\n",
    "        station.drive_miles = info[\"miles\"]\n",
    "        session.add(station)\n",
    "        session.commit()\n",
    "    except Exception as e:\n",
    "        print(\"error on {}\".format(counter))\n",
    "        break\n",
    "    \n",
    "    counter +=1\n",
    "    print(counter)"
   ]
  },
  {
   "cell_type": "code",
   "execution_count": null,
   "metadata": {},
   "outputs": [],
   "source": [
    "sql = \"\"\"\n",
    "select *\n",
    "from tt_h.stations_drivetime\n",
    "\"\"\"\n",
    "df = pd.read_sql(sql, conn)\n",
    "df.sample(20)"
   ]
  },
  {
   "cell_type": "code",
   "execution_count": null,
   "metadata": {},
   "outputs": [],
   "source": []
  }
 ],
 "metadata": {
  "kernelspec": {
   "display_name": "Python 3",
   "language": "python",
   "name": "python3"
  },
  "language_info": {
   "codemirror_mode": {
    "name": "ipython",
    "version": 3
   },
   "file_extension": ".py",
   "mimetype": "text/x-python",
   "name": "python",
   "nbconvert_exporter": "python",
   "pygments_lexer": "ipython3",
   "version": "3.6.1"
  }
 },
 "nbformat": 4,
 "nbformat_minor": 2
}
