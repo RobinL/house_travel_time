{
 "cells": [
  {
   "cell_type": "code",
   "execution_count": null,
   "metadata": {},
   "outputs": [],
   "source": [
    "import json \n",
    "\n",
    "# Get list of cycle times required\n",
    "\n",
    "sql = \"\"\"\n",
    "select station_name, lat, lng, nlc, icscode from tt_h.all_stations \n",
    "where in_london = true\n",
    "\"\"\"\n",
    "\n",
    "lon_stations = pd.read_sql(sql, conn)\n",
    "\n",
    "lon_stations[\"j\"] = 1\n",
    "\n",
    "pcs = pd.DataFrame(pd.Series([\"SW1H9AJ\", \"E145HP\"]))\n",
    "pcs.columns = [\"destination\"]\n",
    "pcs[\"j\"] = 1\n",
    "\n",
    "lon_stations = lon_stations.merge(pcs)\n",
    "lon_stations = lon_stations.drop(\"j\", axis=1)\n",
    "\n",
    "for r in lon_stations.iterrows():\n",
    "    index = r[0]\n",
    "    row = r[1]\n",
    "    \n",
    "    ci = get_cycle_info(origin_lat = row[\"lat\"], origin_lng = row[\"lng\"], dest_pc= row[\"destination\"])\n",
    "    \n",
    "    lon_stations.loc[index, \"cycle_minutes\"] = ci[\"minutes\"]\n",
    "    lon_stations.loc[index, \"cycle_miles\"] = ci[\"miles\"]\n",
    "\n",
    "lon_stations.to_sql(\"cycle_times_in_london\", engine, schema=\"tt_h\", if_exists=\"replace\", index=False)"
   ]
  }
 ],
 "metadata": {
  "kernelspec": {
   "display_name": "Python 3",
   "language": "python",
   "name": "python3"
  },
  "language_info": {
   "codemirror_mode": {
    "name": "ipython",
    "version": 3
   },
   "file_extension": ".py",
   "mimetype": "text/x-python",
   "name": "python",
   "nbconvert_exporter": "python",
   "pygments_lexer": "ipython3",
   "version": "3.6.1"
  }
 },
 "nbformat": 4,
 "nbformat_minor": 2
}
