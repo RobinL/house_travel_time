{
 "cells": [
  {
   "cell_type": "markdown",
   "metadata": {},
   "source": [
    "To do:\n",
    "\n",
    "(0) Output data csv\n",
    "(1) Fix up mapping repo so that it accepts a csv\n",
    "\n",
    "\n",
    "Do we need to have an intermediate step that works out which national rail station \n",
    "\n",
    "For stations where it's not working, route instead to closest station within central london\n",
    "\n",
    "\n",
    "\n",
    "\n",
    "Given a point we want to know:\n",
    "- How long to 102PF (find stations within 3 miles, which one is fastest train?) - write fn\n",
    "- How long to CW (find stations within 3 miles, which one is fastest train?) - write fn\n",
    "- How long to Chelmsford (Driving) - write fn\n",
    "- How long to Abingdon (Driving) - write fn\n",
    "- How long to Newport (Driving) - write fn\n",
    "\n",
    "Each lookup, we want to record these details in a Google sheet?  \n",
    "\n",
    "Yes.  We want to later be able to plot all these on a map.  \n",
    "\n",
    "Maps\n",
    "- Each house location we've manually searched for, with metrics as above.\n",
    "- Each station with all metrics in spreadseet\n",
    "    -  Add s eason ticket prices last \n",
    "\n",
    "Look at Jupyterlab extensions "
   ]
  }
 ],
 "metadata": {
  "kernelspec": {
   "display_name": "Python 3",
   "language": "python",
   "name": "python3"
  },
  "language_info": {
   "codemirror_mode": {
    "name": "ipython",
    "version": 3
   },
   "file_extension": ".py",
   "mimetype": "text/x-python",
   "name": "python",
   "nbconvert_exporter": "python",
   "pygments_lexer": "ipython3",
   "version": "3.6.1"
  }
 },
 "nbformat": 4,
 "nbformat_minor": 2
}
