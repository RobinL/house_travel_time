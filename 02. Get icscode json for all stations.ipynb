{
 "cells": [
  {
   "cell_type": "markdown",
   "metadata": {},
   "source": [
    "We need the ics code for stations so that we can look them up on the TFL Journeyplanner"
   ]
  },
  {
   "cell_type": "code",
   "execution_count": 1,
   "metadata": {},
   "outputs": [
    {
     "name": "stderr",
     "output_type": "stream",
     "text": [
      "/Users/robinlinacre/anaconda/lib/python3.6/site-packages/sqlalchemy/dialects/postgresql/base.py:2526: SAWarning: Did not recognize type 'geometry' of column 'geom'\n",
      "  (attype, name))\n"
     ]
    }
   ],
   "source": [
    "# Use SQLAlchemy to write each one to the database\n",
    "# Grab a list of all the ids of records which need to be matched\n",
    "\n",
    "from mylibrary.connections import Automapped_Base, session\n",
    "Stations = Automapped_Base.classes.all_stations"
   ]
  },
  {
   "cell_type": "code",
   "execution_count": 2,
   "metadata": {},
   "outputs": [],
   "source": [
    "# ids = session.query(Stations.nlc).filter(Stations.london_or_gb == \"gb\").all()\n",
    "nlcs = session.query(Stations.nlc).filter(Stations.tfl_message ==  None).all()"
   ]
  },
  {
   "cell_type": "code",
   "execution_count": 3,
   "metadata": {},
   "outputs": [],
   "source": [
    "from mylibrary.secrets import app_id, app_key"
   ]
  },
  {
   "cell_type": "code",
   "execution_count": null,
   "metadata": {},
   "outputs": [],
   "source": [
    "# Dump all the json to the database first.  Then process it later\n",
    "# Iterate through adding icscode\n",
    "import requests\n",
    "\n",
    "from mylibrary.tfl_helpers import status_of_tfl_response_places\n",
    "\n",
    "def get_icsCode(lat,lng):\n",
    "    my_dict = {\"lat\": lat,\n",
    "        \"lng\": lng,\n",
    "        \"id\": app_id,\n",
    "        \"key\": app_key}\n",
    "    \n",
    "    full_str = \"\".join([r\"https://api.tfl.gov.uk/Place?\",\n",
    "    r\"lat={lat}\",\n",
    "    r\"&lon={lng}\",\n",
    "    r\"&radius=1000\",\n",
    "    r\"&includeChildren=False\",\n",
    "    r\"&app_id={id}\",\n",
    "    r\"&app_key={key}\"])\n",
    "    \n",
    "    url = full_str.format(**my_dict)\n",
    "    r = requests.get(url)\n",
    "    \n",
    "    message = status_of_tfl_response_places(r.content)\n",
    "    \n",
    "    return_object = {\"json\": r.text, \"request_url\": url, \"tfl_message\": message}\n",
    "    return return_object\n",
    "    \n",
    "\n",
    "for nlc in nlcs:\n",
    "    station = session.query(Stations).filter(Stations.nlc == nlc).one()\n",
    "    ics_object = get_icsCode(station.lat, station.lng)\n",
    "    station.tfl_request = ics_object[\"request_url\"]\n",
    "    station.tfl_response = ics_object[\"json\"]\n",
    "    station.tfl_message = ics_object[\"tfl_message\"]\n",
    "    session.add(station)\n",
    "    session.commit()"
   ]
  }
 ],
 "metadata": {
  "kernelspec": {
   "display_name": "Python 3",
   "language": "python",
   "name": "python3"
  },
  "language_info": {
   "codemirror_mode": {
    "name": "ipython",
    "version": 3
   },
   "file_extension": ".py",
   "mimetype": "text/x-python",
   "name": "python",
   "nbconvert_exporter": "python",
   "pygments_lexer": "ipython3",
   "version": "3.6.1"
  }
 },
 "nbformat": 4,
 "nbformat_minor": 2
}
