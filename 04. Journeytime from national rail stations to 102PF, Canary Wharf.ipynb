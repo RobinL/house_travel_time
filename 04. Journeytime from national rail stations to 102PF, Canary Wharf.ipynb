{
 "cells": [
  {
   "cell_type": "code",
   "execution_count": 1,
   "metadata": {},
   "outputs": [
    {
     "name": "stderr",
     "output_type": "stream",
     "text": [
      "/Users/robinlinacre/anaconda/lib/python3.6/site-packages/sqlalchemy/dialects/postgresql/base.py:2526: SAWarning: Did not recognize type 'geometry' of column 'geom'\n",
      "  (attype, name))\n"
     ]
    }
   ],
   "source": [
    "from mylibrary.secrets import app_id, app_key, orig_name, dest_name, orig_pc, dest_pc\n",
    "from mylibrary.connections import cursor, conn, engine, Automapped_Base, session\n"
   ]
  },
  {
   "cell_type": "code",
   "execution_count": 2,
   "metadata": {},
   "outputs": [],
   "source": [
    "# conn.rollback()\n",
    "\n",
    "# sql = \"\"\"\n",
    "# drop table if exists tt_h.stations_journeytime;\n",
    "\n",
    "# create table tt_h.stations_journeytime as \n",
    "# select nlc, icscode, station_name from tt_h.all_stations where icscode_status= 'ok';\n",
    "# \"\"\"\n",
    "# cur = conn.cursor()\n",
    "# cur.execute(sql)\n",
    "# conn.commit()\n",
    "\n",
    "# sql = \"\"\"\n",
    "# ALTER TABLE tt_h.stations_journeytime\n",
    "# ADD id SERIAL,\n",
    "# ADD tfl_request text, \n",
    "# ADD tfl_response json,\n",
    "# ADD querydict json,\n",
    "# ADD tfl_message text,\n",
    "# ADD tfl_dest text;\n",
    "\n",
    "# ALTER TABLE tt_h.stations_journeytime ADD PRIMARY KEY (id);\n",
    "\n",
    "# \"\"\"\n",
    "# cur = conn.cursor()\n",
    "# cur.execute(sql)\n",
    "# conn.commit()"
   ]
  },
  {
   "cell_type": "code",
   "execution_count": 3,
   "metadata": {
    "collapsed": true
   },
   "outputs": [],
   "source": [
    "# Dump all the json to the database first.  Then process it later\n",
    "# Iterate through adding icscode\n",
    "import requests\n",
    "import pandas as pd\n",
    "import json\n",
    "\n",
    "from mylibrary.tfl_helpers import get_journeyplanner_raw_content, status_of_tfl_response_journey, get_journeyplanner_results"
   ]
  },
  {
   "cell_type": "code",
   "execution_count": 4,
   "metadata": {
    "collapsed": true
   },
   "outputs": [],
   "source": [
    "from mylibrary.connections import cursor, conn, engine, Automapped_Base, session\n",
    "\n",
    "def get_attempt(pc, times, dates):\n",
    "\n",
    "    attempt = {\n",
    "        \"to\": pc,\n",
    "        \"id\": app_id,\n",
    "        \"key\": app_key,\n",
    "        \"time\": times[0],\n",
    "        \"date\": dates[0],\n",
    "        \"nationalsearch\": True}\n",
    "                      \n",
    "    param_dicts = []\n",
    "    param_dicts.append(attempt)\n",
    "\n",
    "    d1 = attempt.copy()\n",
    "    d1[\"time\"] =times[1]\n",
    "    d1[\"date\"] = dates[1]\n",
    "    param_dicts.append(d1)\n",
    "\n",
    "    d2 = attempt.copy()\n",
    "    d2[\"time\"] =times[2]\n",
    "    d2[\"date\"] = dates[2]\n",
    "    param_dicts.append(d2)\n",
    "\n",
    "    return param_dicts"
   ]
  },
  {
   "cell_type": "code",
   "execution_count": 5,
   "metadata": {},
   "outputs": [],
   "source": [
    "# Multithread \n",
    "\n",
    "import threading\n",
    "num_threads = 6\n",
    "\n",
    "from sqlalchemy import or_\n",
    "\n",
    "from sqlalchemy.orm.session import make_transient\n",
    "\n",
    "Stations2 = Automapped_Base.classes.stations_journeytime\n",
    "\n",
    "\n",
    "# Needs only the nlcs which haven't already been done\n",
    "\n",
    "sql = \"\"\"\n",
    "select distinct nlc from tt_h.stations_journeytime  \n",
    "where nlc not in (select nlc from tt_h.stations_journeytime where tfl_message ='ok')\n",
    "\"\"\"\n",
    "\n",
    "nlcs = list(pd.read_sql(sql,conn)[\"nlc\"])\n",
    "nlcs = [int(i) for i in nlcs]\n"
   ]
  },
  {
   "cell_type": "code",
   "execution_count": null,
   "metadata": {},
   "outputs": [
    {
     "name": "stderr",
     "output_type": "stream",
     "text": [
      "/Users/robinlinacre/anaconda/lib/python3.6/site-packages/sqlalchemy/dialects/postgresql/base.py:2526: SAWarning: Did not recognize type 'geometry' of column 'geom'\n",
      "  (attype, name))\n"
     ]
    },
    {
     "name": "stdout",
     "output_type": "stream",
     "text": [
      "10\n",
      "20\n",
      "30\n",
      "40\n",
      "50\n",
      "60\n",
      "70\n",
      "80\n",
      "90\n",
      "100\n",
      "110\n",
      "120\n",
      "130\n",
      "140\n",
      "150\n",
      "160\n",
      "170\n",
      "180\n",
      "190\n",
      "200\n",
      "210\n",
      "Traceback (most recent call last):\n",
      "  File \"/Users/robinlinacre/Documents/python_projects/house_tt/mylibrary/tfl_helpers.py\", line 30, in status_of_tfl_response_journey\n",
      "    parsed_response = json.loads(content)\n",
      "  File \"/Users/robinlinacre/anaconda/lib/python3.6/json/__init__.py\", line 354, in loads\n",
      "    return _default_decoder.decode(s)\n",
      "  File \"/Users/robinlinacre/anaconda/lib/python3.6/json/decoder.py\", line 339, in decode\n",
      "    obj, end = self.raw_decode(s, idx=_w(s, 0).end())\n",
      "  File \"/Users/robinlinacre/anaconda/lib/python3.6/json/decoder.py\", line 357, in raw_decode\n",
      "    raise JSONDecodeError(\"Expecting value\", s, err.value) from None\n",
      "json.decoder.JSONDecodeError: Expecting value: line 1 column 1 (char 0)\n",
      "\n",
      "220\n",
      "230\n",
      "240\n",
      "250\n",
      "260\n",
      "270\n",
      "280\n",
      "290\n",
      "300\n",
      "310\n",
      "320\n",
      "330\n",
      "340\n",
      "350\n",
      "360\n",
      "370\n"
     ]
    }
   ],
   "source": [
    "\n",
    "# nlcs  = session.query(Stations2.nlc).filter(or_(Stations2.tfl_message == None, Stations2.tfl_message != 'ok')).all()\n",
    "counter = 1\n",
    "from sqlalchemy import create_engine\n",
    "\n",
    "from sqlalchemy.ext.automap import automap_base\n",
    "from sqlalchemy.orm import Session\n",
    "from sqlalchemy import create_engine, MetaData\n",
    "\n",
    "def new_thread():\n",
    "    global counter\n",
    "    \n",
    "    engine = create_engine('postgresql://robinlinacre:@localhost:5432/postgres') \n",
    "    m = MetaData(schema='tt_h')\n",
    "    Automapped_Base = automap_base(bind=engine,metadata=m)\n",
    "    Automapped_Base.prepare(engine, reflect=True)\n",
    "    session = Session(engine)\n",
    "    Stations = Automapped_Base.classes.stations_journeytime\n",
    "\n",
    "    \n",
    "    while len(nlcs) > 0:\n",
    "        nlc = nlcs.pop()\n",
    "        station = session.query(Stations).filter(Stations.nlc == nlc).first()\n",
    "        station_id = station.id\n",
    "\n",
    "        attempts = []\n",
    "        for dest in [\"SW1H9AJ\", \"E145HP\"]:\n",
    "            attempts.append(get_attempt(dest, [\"0800\",\"0820\", \"0840\"], [\"20170817\",\"20170906\",\"20170908\"]))\n",
    "            attempts.append(get_attempt(dest, [\"0820\",\"0840\", \"0900\"], [\"20170817\",\"20170906\",\"20170908\"]))\n",
    "            attempts.append(get_attempt(dest, [\"0740\",\"0800\", \"0820\"], [\"20170817\",\"20170906\",\"20170908\"]))\n",
    "    \n",
    "        for param_dicts in attempts:\n",
    "            \n",
    "            for d in param_dicts:\n",
    "                d[\"from\"] = station.icscode\n",
    "            \n",
    "\n",
    "            journey_object = get_journeyplanner_results(param_dicts)\n",
    "            \n",
    "            _del = station.station_name # This seems to force retreival from the db\n",
    "            \n",
    "            session.expunge(station)\n",
    "            make_transient(station)\n",
    "            station.id = None\n",
    "\n",
    "            station.tfl_request = journey_object[\"request_url\"]\n",
    "            station.tfl_response = journey_object[\"tfl_response\"]\n",
    "            station.querydict = journey_object[\"query_dict\"]\n",
    "            station.tfl_message = journey_object[\"tfl_message\"]\n",
    "            station.tfl_dest = param_dicts[0][\"to\"]\n",
    "\n",
    "            session.add(station)\n",
    "            \n",
    "            session.commit()\n",
    "            \n",
    "            counter +=1\n",
    "            if counter % 10 == 0:\n",
    "                print(counter)\n",
    "        \n",
    "        original = session.query(Stations).filter(Stations.id == station_id)\n",
    "        original.delete()\n",
    "        session.commit()\n",
    "        \n",
    "        \n",
    " \n",
    "my_threads = []\n",
    "\n",
    "for i in range(num_threads):\n",
    "    t = threading.Thread(target=new_thread)\n",
    "    my_threads.append(t)\n",
    "    t.start() #start this thread\n",
    "\n",
    "for x in my_threads:\n",
    "    x.join()"
   ]
  },
  {
   "cell_type": "code",
   "execution_count": null,
   "metadata": {},
   "outputs": [],
   "source": [
    "# How many stations are there in total\n",
    "sql = \"\"\"\n",
    "select count(*) from (select distinct(icscode) from tt_h.stations_journeytime_cw) as a\n",
    "\n",
    "\"\"\"\n",
    "pd.read_sql(sql, conn)"
   ]
  },
  {
   "cell_type": "code",
   "execution_count": null,
   "metadata": {},
   "outputs": [],
   "source": [
    "# How many stations are there that we have an 'ok' for?\n",
    "sql = \"\"\"\n",
    "select count(*) from (select distinct(icscode) from tt_h.stations_journeytime_cw where tfl_message = 'ok') as a\n",
    "\n",
    "\"\"\"\n",
    "pd.read_sql(sql, conn)"
   ]
  },
  {
   "cell_type": "code",
   "execution_count": null,
   "metadata": {},
   "outputs": [],
   "source": [
    "get_attempt(\"SW1H9AJ\", [\"0800\",\"0820\", \"0840\"], [\"20170817\",\"20170906\",\"20170908\"])"
   ]
  },
  {
   "cell_type": "code",
   "execution_count": null,
   "metadata": {},
   "outputs": [],
   "source": []
  },
  {
   "cell_type": "code",
   "execution_count": null,
   "metadata": {
    "collapsed": true
   },
   "outputs": [],
   "source": []
  }
 ],
 "metadata": {
  "kernelspec": {
   "display_name": "Python 3",
   "language": "python",
   "name": "python3"
  },
  "language_info": {
   "codemirror_mode": {
    "name": "ipython",
    "version": 3
   },
   "file_extension": ".py",
   "mimetype": "text/x-python",
   "name": "python",
   "nbconvert_exporter": "python",
   "pygments_lexer": "ipython3",
   "version": "3.6.1"
  }
 },
 "nbformat": 4,
 "nbformat_minor": 2
}
