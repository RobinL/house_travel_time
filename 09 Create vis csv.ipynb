{
 "cells": [
  {
   "cell_type": "code",
   "execution_count": 13,
   "metadata": {},
   "outputs": [],
   "source": [
    "from mylibrary.connections import cursor, conn, engine, Automapped_Base, session\n",
    "import pandas as pd \n",
    "sql = \"\"\"\n",
    "select * from tt_h.parsed_rail_journeys\n",
    "\"\"\"\n",
    "df = pd.read_sql(sql, conn)"
   ]
  },
  {
   "cell_type": "code",
   "execution_count": 14,
   "metadata": {},
   "outputs": [],
   "source": [
    "df_pf = df[df[\"tfl_dest\"] == \"SW1H9AJ\"]\n",
    "df_cw = df[df[\"tfl_dest\"] == \"E145HP\"]"
   ]
  },
  {
   "cell_type": "code",
   "execution_count": 15,
   "metadata": {},
   "outputs": [],
   "source": [
    "all_stations_data = df_pf.merge(df_cw, how='left', on=[\"nlc\", \"icscode\", \"station_name\", \"tfl_message\", \"depart_lat\", \"depart_lng\"], suffixes=(\"_pf\", \"_cw\"))"
   ]
  },
  {
   "cell_type": "code",
   "execution_count": null,
   "metadata": {},
   "outputs": [],
   "source": [
    "# Now merge on drivetimes"
   ]
  },
  {
   "cell_type": "code",
   "execution_count": 45,
   "metadata": {},
   "outputs": [],
   "source": [
    "sql = \"\"\"\n",
    "select icscode, dest_pc, drive_minutes, drive_miles from tt_h.stations_drivetime\n",
    "\"\"\"\n",
    "dt = pd.read_sql(sql, conn)\n",
    "pt = dt.pivot_table(index=[\"icscode\"], columns=\"dest_pc\")\n",
    "pt.columns = ['_'.join(col).strip().lower() for col in pt.columns.values]\n",
    "pt = pt.reset_index()"
   ]
  },
  {
   "cell_type": "code",
   "execution_count": 47,
   "metadata": {},
   "outputs": [],
   "source": [
    "all_stations_data_2 = all_stations_data.merge(pt, on=\"icscode\", how=\"left\")"
   ]
  },
  {
   "cell_type": "code",
   "execution_count": 54,
   "metadata": {},
   "outputs": [
    {
     "data": {
      "text/plain": [
       "Index(['nlc', 'icscode', 'station_name', 'tfl_message', 'tfl_dest_pf', 'lat',\n",
       "       'lng', 'natrail_journey_summary_pf', 'natrail_train_changes_pf',\n",
       "       'final_arrival_pf', 'natrail_journey_minutes_pf', 'arrive_lat_pf',\n",
       "       'arrive_lng_pf', 'cycle_minutes_pf', 'cycle_miles_pf',\n",
       "       'total_journeytime_pf', 'id_pf', 'tfl_dest_cw',\n",
       "       'natrail_journey_summary_cw', 'natrail_train_changes_cw',\n",
       "       'final_arrival_cw', 'natrail_journey_minutes_cw', 'arrive_lat_cw',\n",
       "       'arrive_lng_cw', 'cycle_minutes_cw', 'cycle_miles_cw',\n",
       "       'total_journeytime_cw', 'id_cw', 'drive_miles_cb113qy',\n",
       "       'drive_miles_ox145fp', 'drive_minutes_cb113qy',\n",
       "       'drive_minutes_ox145fp'],\n",
       "      dtype='object')"
      ]
     },
     "execution_count": 54,
     "metadata": {},
     "output_type": "execute_result"
    }
   ],
   "source": [
    "all_stations_data_2.columns"
   ]
  },
  {
   "cell_type": "code",
   "execution_count": 65,
   "metadata": {},
   "outputs": [],
   "source": [
    "import numpy as np\n",
    "all_stations_data_2[\"parents_drivetime_diff\"] =  np.abs(all_stations_data_2[\"drive_minutes_ox145fp\"] - all_stations_data_2[\"drive_minutes_cb113qy\"])\n",
    "all_stations_data_2[\"parents_drivetime_total\"] =  all_stations_data_2[\"drive_minutes_ox145fp\"] + all_stations_data_2[\"drive_minutes_cb113qy\"]\n",
    "all_stations_data_2[\"parents_drivetime_score\"] =  all_stations_data_2[\"parents_drivetime_total\"] + all_stations_data_2[\"parents_drivetime_diff\"]"
   ]
  },
  {
   "cell_type": "code",
   "execution_count": 66,
   "metadata": {},
   "outputs": [],
   "source": [
    "all_stations_data_2.rename(columns={\"depart_lat\":\"lat\", \"depart_lng\":\"lng\"}, inplace=True)\n",
    "all_stations_data_2.to_csv(\"interactive_maps_template/data/stations_maps_data.csv\", encoding='utf-8', index=False)"
   ]
  }
 ],
 "metadata": {
  "kernelspec": {
   "display_name": "Python 3",
   "language": "python",
   "name": "python3"
  },
  "language_info": {
   "codemirror_mode": {
    "name": "ipython",
    "version": 3
   },
   "file_extension": ".py",
   "mimetype": "text/x-python",
   "name": "python",
   "nbconvert_exporter": "python",
   "pygments_lexer": "ipython3",
   "version": "3.6.1"
  }
 },
 "nbformat": 4,
 "nbformat_minor": 2
}
