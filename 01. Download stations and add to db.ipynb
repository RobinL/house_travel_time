{
 "cells": [
  {
   "cell_type": "markdown",
   "metadata": {},
   "source": [
    "Purpose:\n",
    "Retrieve full list of UK stations from http://orr.gov.uk/statistics/published-stats/station-usage-estimates\n",
    "\n",
    "Create tables in the database and add data\n",
    "\n",
    "Programmer:  Robin Linacre"
   ]
  },
  {
   "cell_type": "code",
   "execution_count": 1,
   "metadata": {
    "collapsed": true
   },
   "outputs": [
    {
     "name": "stderr",
     "output_type": "stream",
     "text": [
      "/Users/robinlinacre/anaconda/lib/python3.6/site-packages/sqlalchemy/dialects/postgresql/base.py:2526: SAWarning: Did not recognize type 'geometry' of column 'geom'\n",
      "  (attype, name))\n"
     ]
    }
   ],
   "source": [
    "import pandas as pd\n",
    "pd.options.display.max_columns = 999\n",
    "from mylibrary.connections import cursor, conn, engine, Automapped_Base, session"
   ]
  },
  {
   "cell_type": "code",
   "execution_count": 2,
   "metadata": {},
   "outputs": [],
   "source": [
    "sql = \"\"\"\n",
    "DROP TABLE IF EXISTS tt_h.all_stations;\n",
    "DROP TABLE IF EXISTS tt_h.include_exclude;\n",
    "\"\"\"\n",
    "cursor.execute(sql)\n",
    "conn.commit()"
   ]
  },
  {
   "cell_type": "code",
   "execution_count": 3,
   "metadata": {},
   "outputs": [],
   "source": [
    "stations_df = pd.read_excel(\"http://www.orr.gov.uk/__data/assets/excel_doc/0020/23357/estimates-of-station-usage-2015-16.xlsx\", 2)"
   ]
  },
  {
   "cell_type": "code",
   "execution_count": 4,
   "metadata": {},
   "outputs": [],
   "source": [
    "headers = [h.lower() for h in list(stations_df.columns)]\n",
    "headers = [h.replace(\" \", \"_\").replace(\"(\", \"\").replace(\")\",\"\") for h in headers]\n",
    "stations_df.columns = headers\n",
    "stations_df.head()\n",
    "stations_df = stations_df[pd.notnull(stations_df[\"nlc\"])]"
   ]
  },
  {
   "cell_type": "code",
   "execution_count": 5,
   "metadata": {},
   "outputs": [],
   "source": [
    "stations_df[\"nlc\"] = stations_df[\"nlc\"].astype(int)"
   ]
  },
  {
   "cell_type": "code",
   "execution_count": 6,
   "metadata": {},
   "outputs": [],
   "source": [
    "# Now write out to postgres\n",
    "\n",
    "stations_df.to_sql(\"all_stations\", engine, schema=\"tt_h\", if_exists=\"replace\", index=False)"
   ]
  },
  {
   "cell_type": "code",
   "execution_count": 7,
   "metadata": {},
   "outputs": [],
   "source": [
    "# Create geometry column for the points including a spatial index for efficient querying\n",
    "\n",
    "sql = \"\"\"\n",
    "SELECT AddGeometryColumn ('tt_h', 'all_stations', 'geom', 27700, 'POINT', 2);\n",
    "UPDATE tt_h.all_stations SET geom = ST_GeomFromText('POINT(' || os_grid_easting || ' ' || os_grid_northing || ')', 27700 );\n",
    "CREATE INDEX idx_geom_all_stations_points ON tt_h.all_stations USING gist(geom);\n",
    "\"\"\"\n",
    "cursor.execute(sql)\n",
    "conn.commit()"
   ]
  },
  {
   "cell_type": "code",
   "execution_count": 8,
   "metadata": {},
   "outputs": [],
   "source": [
    "#Make a lat and lng column\n",
    "\n",
    "sql = \"\"\"\n",
    "ALTER TABLE tt_h.all_stations ADD lat float, ADD lng float, ADD icscode text, \n",
    "ADD icscode_status text, ADD tfl_request text, ADD tfl_response json, ADD tfl_message  text;\n",
    "UPDATE tt_h.all_stations SET\n",
    "    lng = ST_X(ST_TRANSFORM(geom, 4326)),\n",
    "    lat = ST_Y(ST_TRANSFORM(geom,4326));\n",
    "ALTER TABLE tt_h.all_stations  ADD PRIMARY KEY (nlc);\n",
    "\"\"\" \n",
    "cursor.execute(sql)\n",
    "conn.commit()"
   ]
  },
  {
   "cell_type": "code",
   "execution_count": 9,
   "metadata": {},
   "outputs": [
    {
     "name": "stdout",
     "output_type": "stream",
     "text": [
      "SET\n",
      "SET\n",
      "BEGIN\n",
      "CREATE TABLE\n",
      "ALTER TABLE\n",
      "                       addgeometrycolumn                        \n",
      "----------------------------------------------------------------\n",
      " tt_h.include_exclude.geom SRID:27700 TYPE:MULTIPOLYGON DIMS:2 \n",
      "(1 row)\n",
      "\n",
      "INSERT 0 1\n",
      "CREATE INDEX\n",
      "COMMIT\n",
      "ANALYZE\n"
     ]
    },
    {
     "name": "stderr",
     "output_type": "stream",
     "text": [
      "Shapefile type: Polygon\n",
      "Postgis type: MULTIPOLYGON[2]\n"
     ]
    }
   ],
   "source": [
    "%%bash\n",
    "shp2pgsql -I -s 27700 shapefiles/include_exclude.shp tt_h.include_exclude | psql -d postgres"
   ]
  },
  {
   "cell_type": "code",
   "execution_count": 10,
   "metadata": {},
   "outputs": [],
   "source": [
    "sql = \"\"\"\n",
    "(SELECT s.nlc\n",
    "from tt_h.all_stations as s, tt_h.include_exclude as ie\n",
    "where ST_Contains(ie.geom, s.geom))\n",
    "\"\"\"\n",
    "nlcs = pd.read_sql(sql, conn)\n",
    "nlcs = list(nlcs.loc[:, \"nlc\"])"
   ]
  },
  {
   "cell_type": "code",
   "execution_count": 11,
   "metadata": {},
   "outputs": [],
   "source": [
    "sql = \"\"\"\n",
    "ALTER TABLE tt_h.all_stations ADD in_london boolean;\n",
    "UPDATE tt_h.all_stations SET in_london = null;\n",
    "\"\"\"\n",
    "cursor.execute(sql)\n",
    "conn.commit()"
   ]
  },
  {
   "cell_type": "code",
   "execution_count": 12,
   "metadata": {},
   "outputs": [],
   "source": [
    "all_stations = Automapped_Base.classes.all_stations\n",
    "stations = session.query(all_stations)\n",
    "for station in stations:\n",
    "    station.in_london = (station.nlc in nlcs)\n",
    "    session.add(station)\n",
    "session.commit()"
   ]
  }
 ],
 "metadata": {
  "kernelspec": {
   "display_name": "Python 3",
   "language": "python",
   "name": "python3"
  },
  "language_info": {
   "codemirror_mode": {
    "name": "ipython",
    "version": 3
   },
   "file_extension": ".py",
   "mimetype": "text/x-python",
   "name": "python",
   "nbconvert_exporter": "python",
   "pygments_lexer": "ipython3",
   "version": "3.6.1"
  }
 },
 "nbformat": 4,
 "nbformat_minor": 2
}
