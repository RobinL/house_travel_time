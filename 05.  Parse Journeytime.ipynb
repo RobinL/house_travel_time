{
 "cells": [
  {
   "cell_type": "code",
   "execution_count": 11,
   "metadata": {},
   "outputs": [],
   "source": [
    "import parse_tfl_json\n",
    "import google"
   ]
  },
  {
   "cell_type": "code",
   "execution_count": 12,
   "metadata": {},
   "outputs": [],
   "source": [
    "import pandas as pd \n",
    "from mylibrary.connections import cursor, conn, engine, Automapped_Base, session\n",
    "\n",
    "sql = \"\"\"\n",
    "select * from tt_h.stations_journeytime as sjt\n",
    "where tfl_message = 'ok' and\n",
    " sjt.icscode not in (select icscode from tt_h.all_stations where in_sprawl = true) and \n",
    " sjt.icscode in (select icscode from tt_h.all_stations where lat < 53.39926695813 and lng > -2.54)\n",
    "\"\"\"\n",
    "\n",
    "df = pd.read_sql(sql, conn)"
   ]
  },
  {
   "cell_type": "code",
   "execution_count": 13,
   "metadata": {},
   "outputs": [
    {
     "data": {
      "text/plain": [
       "5831"
      ]
     },
     "execution_count": 13,
     "metadata": {},
     "output_type": "execute_result"
    }
   ],
   "source": [
    "len(df)"
   ]
  },
  {
   "cell_type": "code",
   "execution_count": 14,
   "metadata": {},
   "outputs": [],
   "source": [
    "from process_journeys import get_station_lat_lng_from_icscode, get_london_icscodes, add_cycle_and_total_time, remove_journeys_not_arriving_clondon\n",
    "from google import get_cycle_info\n",
    "import parse_tfl_json\n",
    "import json"
   ]
  },
  {
   "cell_type": "code",
   "execution_count": 35,
   "metadata": {},
   "outputs": [],
   "source": [
    "for r in df.iterrows():\n",
    "    index = r[0]\n",
    "    row = r[1]\n",
    "    \n",
    "    lat, lng = get_station_lat_lng_from_icscode(row[\"icscode\"])\n",
    "\n",
    "    df.loc[index, \"depart_lat\"] = lat\n",
    "    df.loc[index, \"depart_lng\"] = lng\n",
    "    \n",
    "    \n",
    "\n",
    "    try:\n",
    "        j1 = row[\"tfl_response\"]\n",
    "        j2 = json.loads(j1)\n",
    "    except:\n",
    "        print(\"parse problem\")\n",
    "        continue\n",
    "    \n",
    "    try:\n",
    "        journeys = j2[\"journeys\"]\n",
    "    except:\n",
    "        print(\"no journeys in json\")\n",
    "        continue\n",
    "    \n",
    "    # Fill in journey summary so it exists even for journeys that done end in central london\n",
    "    journey = journeys[0]\n",
    "    legs = journey[\"legs\"]\n",
    "    summary = parse_tfl_json.summarise_legs(legs)\n",
    "    df.loc[index, \"natrail_journey_summary\"] = summary\n",
    "    \n",
    "    for journey in journeys:\n",
    "        legs = journey[\"legs\"]\n",
    "        journey[\"legs\"] = parse_tfl_json.remove_non_national_rail(legs)\n",
    "    \n",
    "    # Keep only journeys with a national rail component\n",
    "    journeys = [j for j in journeys if len(j[\"legs\"]) > 0]\n",
    "\n",
    "    # Keep only journeys that end in central London  \n",
    "    try:\n",
    "        journeys = remove_journeys_not_arriving_clondon(journeys)\n",
    "    except:\n",
    "        print(\"Problem with journey starting at {}\".format(row[\"station_name\"]))\n",
    "        continue\n",
    "\n",
    "    \n",
    "    if len(journeys) == 0:\n",
    "        continue\n",
    "\n",
    "    journeys = add_cycle_and_total_time(journeys, row[\"tfl_dest\"])\n",
    "\n",
    "    journeys = sorted(journeys, key = lambda x: x[\"total_time\"])\n",
    "\n",
    "    journey = journeys[0]\n",
    "    legs = journey[\"legs\"]\n",
    "\n",
    "    summary = parse_tfl_json.summarise_legs(legs)\n",
    "    df.loc[index, \"natrail_journey_summary\"] = summary\n",
    "\n",
    "    df.loc[index, \"natrail_train_changes\"] = parse_tfl_json.num_changes(legs)\n",
    "    df.loc[index, \"final_arrival\"] = parse_tfl_json.final_arrival(legs)\n",
    "\n",
    "    travel_time_minutes = parse_tfl_json.get_total_travel_time(legs) \n",
    "    df.loc[index, \"natrail_journey_minutes\"] = travel_time_minutes\n",
    "\n",
    "    lat_lng = parse_tfl_json.lat_lng_from_legs(legs)\n",
    "    \n",
    "    \n",
    "    df.loc[index, \"arrive_lat\"] = lat_lng[\"arrive\"][\"lat\"]\n",
    "    df.loc[index, \"arrive_lng\"] = lat_lng[\"arrive\"][\"lng\"]\n",
    "\n",
    "    df.loc[index, \"cycle_minutes\"] = journey[\"cycle_minutes\"]\n",
    "    df.loc[index, \"cycle_miles\"] = journey[\"cycle_miles\"]\n",
    "    df.loc[index, \"total_journeytime\"] = journey[\"cycle_minutes\"] + travel_time_minutes\n",
    "\n",
    "    \n",
    "    \n",
    "cols = [c for c in df.columns if c not in [\"id\", \"tfl_request\", \"tfl_response\", \"querydict\"]]\n",
    "df2 = df[cols]\n"
   ]
  },
  {
   "cell_type": "code",
   "execution_count": 36,
   "metadata": {},
   "outputs": [],
   "source": [
    "df3 = df2.sort_values([\"station_name\", \"tfl_dest\", \"total_journeytime\"]).drop_duplicates([\"station_name\", \"tfl_dest\"])"
   ]
  },
  {
   "cell_type": "code",
   "execution_count": 37,
   "metadata": {},
   "outputs": [],
   "source": [
    "df_pf = df3[df3[\"tfl_dest\"] == \"SW1H9AJ\"]\n",
    "df_cw = df3[df3[\"tfl_dest\"] == \"E145HP\"]"
   ]
  },
  {
   "cell_type": "code",
   "execution_count": 38,
   "metadata": {},
   "outputs": [],
   "source": [
    "all_stations_data = df_pf.merge(df_cw, how='left', on=[\"nlc\", \"icscode\", \"station_name\", \"tfl_message\", \"depart_lat\", \"depart_lng\"], suffixes=(\"_pf\", \"_cw\"))"
   ]
  },
  {
   "cell_type": "code",
   "execution_count": 44,
   "metadata": {},
   "outputs": [],
   "source": [
    "# Write out to Postgres\n",
    "all_stations_data.to_sql(\"stations_maps_data\", engine, schema=\"tt_h\", if_exists=\"replace\", index=False)"
   ]
  },
  {
   "cell_type": "code",
   "execution_count": 40,
   "metadata": {},
   "outputs": [],
   "source": [
    "all_stations_data.to_csv(\"stations_maps_data.csv\", encoding='utf-8', index=False)"
   ]
  },
  {
   "cell_type": "code",
   "execution_count": 41,
   "metadata": {},
   "outputs": [],
   "source": [
    "all_stations_data.rename(columns={\"depart_lat\":\"lat\", \"depart_lng\":\"lng\"}, inplace=True)\n",
    "all_stations_data.to_csv(\"interactive_maps_template/data/stations_maps_data.csv\", encoding='utf-8', index=False)"
   ]
  },
  {
   "cell_type": "code",
   "execution_count": 42,
   "metadata": {},
   "outputs": [],
   "source": [
    "# What's going on with e.g. newport?\n",
    "# df3[df3[\"icscode\"] == \"1000647\"]\n"
   ]
  },
  {
   "cell_type": "code",
   "execution_count": 43,
   "metadata": {},
   "outputs": [
    {
     "data": {
      "text/html": [
       "<div>\n",
       "<style>\n",
       "    .dataframe thead tr:only-child th {\n",
       "        text-align: right;\n",
       "    }\n",
       "\n",
       "    .dataframe thead th {\n",
       "        text-align: left;\n",
       "    }\n",
       "\n",
       "    .dataframe tbody tr th {\n",
       "        vertical-align: top;\n",
       "    }\n",
       "</style>\n",
       "<table border=\"1\" class=\"dataframe\">\n",
       "  <thead>\n",
       "    <tr style=\"text-align: right;\">\n",
       "      <th></th>\n",
       "      <th>nlc</th>\n",
       "      <th>icscode</th>\n",
       "      <th>station_name</th>\n",
       "      <th>tfl_message</th>\n",
       "      <th>tfl_dest</th>\n",
       "      <th>natrail_journey_summary</th>\n",
       "      <th>natrail_train_changes</th>\n",
       "      <th>final_arrival</th>\n",
       "      <th>natrail_journey_minutes</th>\n",
       "      <th>depart_lat</th>\n",
       "      <th>depart_lng</th>\n",
       "      <th>arrive_lat</th>\n",
       "      <th>arrive_lng</th>\n",
       "      <th>cycle_minutes</th>\n",
       "      <th>cycle_miles</th>\n",
       "      <th>total_journeytime</th>\n",
       "    </tr>\n",
       "  </thead>\n",
       "  <tbody>\n",
       "    <tr>\n",
       "      <th>4595</th>\n",
       "      <td>7017</td>\n",
       "      <td>90000325</td>\n",
       "      <td>Audley End</td>\n",
       "      <td>ok</td>\n",
       "      <td>SW1H9AJ</td>\n",
       "      <td>Audley End Rail Station → Tottenham Hale Rail ...</td>\n",
       "      <td>NaN</td>\n",
       "      <td>NaN</td>\n",
       "      <td>NaN</td>\n",
       "      <td>52.004441</td>\n",
       "      <td>0.207160</td>\n",
       "      <td>NaN</td>\n",
       "      <td>NaN</td>\n",
       "      <td>NaN</td>\n",
       "      <td>NaN</td>\n",
       "      <td>NaN</td>\n",
       "    </tr>\n",
       "    <tr>\n",
       "      <th>2802</th>\n",
       "      <td>1212</td>\n",
       "      <td>90002358</td>\n",
       "      <td>Dudley Port</td>\n",
       "      <td>ok</td>\n",
       "      <td>SW1H9AJ</td>\n",
       "      <td>Dudley Port Rail Station → Birmingham New Stre...</td>\n",
       "      <td>1.0</td>\n",
       "      <td>Euston Station</td>\n",
       "      <td>113.0</td>\n",
       "      <td>52.524650</td>\n",
       "      <td>-2.049480</td>\n",
       "      <td>51.528952</td>\n",
       "      <td>-0.135</td>\n",
       "      <td>17.235056</td>\n",
       "      <td>4.021513</td>\n",
       "      <td>130.235056</td>\n",
       "    </tr>\n",
       "    <tr>\n",
       "      <th>2963</th>\n",
       "      <td>1149</td>\n",
       "      <td>90006655</td>\n",
       "      <td>Sandwell &amp; Dudley</td>\n",
       "      <td>ok</td>\n",
       "      <td>SW1H9AJ</td>\n",
       "      <td>Sandwell &amp; Dudley Rail Station → Euston Station</td>\n",
       "      <td>0.0</td>\n",
       "      <td>Euston Station</td>\n",
       "      <td>97.0</td>\n",
       "      <td>52.508658</td>\n",
       "      <td>-2.011596</td>\n",
       "      <td>51.528952</td>\n",
       "      <td>-0.135</td>\n",
       "      <td>17.235056</td>\n",
       "      <td>4.021513</td>\n",
       "      <td>114.235056</td>\n",
       "    </tr>\n",
       "  </tbody>\n",
       "</table>\n",
       "</div>"
      ],
      "text/plain": [
       "       nlc   icscode       station_name tfl_message tfl_dest  \\\n",
       "4595  7017  90000325         Audley End          ok  SW1H9AJ   \n",
       "2802  1212  90002358        Dudley Port          ok  SW1H9AJ   \n",
       "2963  1149  90006655  Sandwell & Dudley          ok  SW1H9AJ   \n",
       "\n",
       "                                natrail_journey_summary  \\\n",
       "4595  Audley End Rail Station → Tottenham Hale Rail ...   \n",
       "2802  Dudley Port Rail Station → Birmingham New Stre...   \n",
       "2963    Sandwell & Dudley Rail Station → Euston Station   \n",
       "\n",
       "      natrail_train_changes   final_arrival  natrail_journey_minutes  \\\n",
       "4595                    NaN             NaN                      NaN   \n",
       "2802                    1.0  Euston Station                    113.0   \n",
       "2963                    0.0  Euston Station                     97.0   \n",
       "\n",
       "      depart_lat  depart_lng  arrive_lat  arrive_lng  cycle_minutes  \\\n",
       "4595   52.004441    0.207160         NaN         NaN            NaN   \n",
       "2802   52.524650   -2.049480   51.528952      -0.135      17.235056   \n",
       "2963   52.508658   -2.011596   51.528952      -0.135      17.235056   \n",
       "\n",
       "      cycle_miles  total_journeytime  \n",
       "4595          NaN                NaN  \n",
       "2802     4.021513         130.235056  \n",
       "2963     4.021513         114.235056  "
      ]
     },
     "execution_count": 43,
     "metadata": {},
     "output_type": "execute_result"
    }
   ],
   "source": [
    "df_pf[df_pf.station_name.str.contains(\"udley\")]"
   ]
  },
  {
   "cell_type": "code",
   "execution_count": null,
   "metadata": {},
   "outputs": [],
   "source": []
  }
 ],
 "metadata": {
  "kernelspec": {
   "display_name": "Python 3",
   "language": "python",
   "name": "python3"
  },
  "language_info": {
   "codemirror_mode": {
    "name": "ipython",
    "version": 3
   },
   "file_extension": ".py",
   "mimetype": "text/x-python",
   "name": "python",
   "nbconvert_exporter": "python",
   "pygments_lexer": "ipython3",
   "version": "3.6.1"
  }
 },
 "nbformat": 4,
 "nbformat_minor": 2
}
