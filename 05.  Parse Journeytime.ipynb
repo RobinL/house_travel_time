{
 "cells": [
  {
   "cell_type": "code",
   "execution_count": 1,
   "metadata": {},
   "outputs": [],
   "source": [
    "import parse_tfl_json"
   ]
  },
  {
   "cell_type": "code",
   "execution_count": 26,
   "metadata": {},
   "outputs": [],
   "source": [
    "import pandas as pd \n",
    "from mylibrary.connections import cursor, conn, engine, Automapped_Base, session\n",
    "\n",
    "sql = \"\"\"\n",
    "select * from tt_h.stations_journeytime_cw where tfl_message = 'ok'\n",
    "\"\"\"\n",
    "df = pd.read_sql(sql, conn)"
   ]
  },
  {
   "cell_type": "code",
   "execution_count": 29,
   "metadata": {},
   "outputs": [],
   "source": [
    "import json \n",
    "\n",
    "for r in df.iterrows():\n",
    "    index = r[0]\n",
    "    row = r[1]\n",
    "\n",
    "    j1 = row[\"tfl_response\"]\n",
    "    j2 = json.loads(j1)\n",
    "    \n",
    "    try:\n",
    "        journeys = j2[\"journeys\"]\n",
    "        journey = sorted(journeys, key = lambda x:  x[\"duration\"])[0]\n",
    "\n",
    "        legs = journey[\"legs\"]\n",
    "\n",
    "        legs = parse_tfl_json.remove_non_national_rail(legs)\n",
    "\n",
    "        summary = parse_tfl_json.summarise_legs(legs)\n",
    "        df.loc[index, \"natrail_journey_summary\"] = summary\n",
    "\n",
    "        df.loc[index, \"natrail_train_changes\"] = parse_tfl_json.num_changes(legs)\n",
    "        df.loc[index, \"final_arrival\"] = parse_tfl_json.final_arrival(legs)\n",
    "\n",
    "        travel_time_minutes = parse_tfl_json.get_total_travel_time(legs) \n",
    "        df.loc[index, \"natrail_journey_minutes\"] = travel_time_minutes\n",
    "\n",
    "        lat_lng = parse_tfl_json.lat_lng_from_legs(legs)\n",
    "        df.loc[index, \"depart_lat\"] = lat_lng[\"depart\"][\"lat\"]\n",
    "        df.loc[index, \"depart_lng\"] = lat_lng[\"depart\"][\"lng\"]\n",
    "        df.loc[index, \"arrive_lat\"] = lat_lng[\"arrive\"][\"lat\"]\n",
    "        df.loc[index, \"arrive_lng\"] = lat_lng[\"arrive\"][\"lng\"]\n",
    "    except Exception as e:\n",
    "        df.loc[index, \"error\"] = \"Parse problem\"\n",
    "    \n",
    "    \n",
    "    \n",
    "cols = [c for c in df.columns if c not in [\"id\", \"tfl_request\", \"tfl_response\", \"querydict\", \"journey_time\", \"london_mainline_station_ics\", \"london_mainline_station_text\"]]\n",
    "df2 = df[cols]"
   ]
  },
  {
   "cell_type": "code",
   "execution_count": 30,
   "metadata": {},
   "outputs": [
    {
     "data": {
      "text/html": [
       "<div>\n",
       "<style>\n",
       "    .dataframe thead tr:only-child th {\n",
       "        text-align: right;\n",
       "    }\n",
       "\n",
       "    .dataframe thead th {\n",
       "        text-align: left;\n",
       "    }\n",
       "\n",
       "    .dataframe tbody tr th {\n",
       "        vertical-align: top;\n",
       "    }\n",
       "</style>\n",
       "<table border=\"1\" class=\"dataframe\">\n",
       "  <thead>\n",
       "    <tr style=\"text-align: right;\">\n",
       "      <th></th>\n",
       "      <th>nlc</th>\n",
       "      <th>icscode</th>\n",
       "      <th>station_name</th>\n",
       "      <th>tfl_message</th>\n",
       "      <th>natrail_journey_summary</th>\n",
       "      <th>natrail_train_changes</th>\n",
       "      <th>final_arrival</th>\n",
       "      <th>natrail_journey_minutes</th>\n",
       "      <th>depart_lat</th>\n",
       "      <th>depart_lng</th>\n",
       "      <th>arrive_lat</th>\n",
       "      <th>arrive_lng</th>\n",
       "      <th>error</th>\n",
       "    </tr>\n",
       "  </thead>\n",
       "  <tbody>\n",
       "    <tr>\n",
       "      <th>0</th>\n",
       "      <td>6846</td>\n",
       "      <td>1000691</td>\n",
       "      <td>White Notley</td>\n",
       "      <td>ok</td>\n",
       "      <td>White Notley Rail Station → Stratford (London)...</td>\n",
       "      <td>0.0</td>\n",
       "      <td>Stratford (London) Rail Station</td>\n",
       "      <td>44.0</td>\n",
       "      <td>51.838910</td>\n",
       "      <td>0.595863</td>\n",
       "      <td>51.542234</td>\n",
       "      <td>-0.002819</td>\n",
       "      <td>NaN</td>\n",
       "    </tr>\n",
       "    <tr>\n",
       "      <th>1</th>\n",
       "      <td>5686</td>\n",
       "      <td>90008069</td>\n",
       "      <td>Worplesdon</td>\n",
       "      <td>ok</td>\n",
       "      <td>Worplesdon Rail Station → Waterloo Station</td>\n",
       "      <td>0.0</td>\n",
       "      <td>Waterloo Station</td>\n",
       "      <td>33.0</td>\n",
       "      <td>51.289016</td>\n",
       "      <td>-0.582578</td>\n",
       "      <td>51.502346</td>\n",
       "      <td>-0.114373</td>\n",
       "      <td>NaN</td>\n",
       "    </tr>\n",
       "    <tr>\n",
       "      <th>2</th>\n",
       "      <td>6551</td>\n",
       "      <td>90007791</td>\n",
       "      <td>Whitwell (Derbys)</td>\n",
       "      <td>ok</td>\n",
       "      <td>Whitwell (Derbys) Rail Station → Worksop Rail ...</td>\n",
       "      <td>3.0</td>\n",
       "      <td>London King's Cross Rail Station</td>\n",
       "      <td>181.0</td>\n",
       "      <td>53.279959</td>\n",
       "      <td>-1.200207</td>\n",
       "      <td>51.531579</td>\n",
       "      <td>-0.123243</td>\n",
       "      <td>NaN</td>\n",
       "    </tr>\n",
       "    <tr>\n",
       "      <th>3</th>\n",
       "      <td>5827</td>\n",
       "      <td>90008172</td>\n",
       "      <td>Yeoford</td>\n",
       "      <td>ok</td>\n",
       "      <td>Yeoford Rail Station → Exeter St Davids Rail S...</td>\n",
       "      <td>1.0</td>\n",
       "      <td>Paddington Station</td>\n",
       "      <td>173.0</td>\n",
       "      <td>50.776893</td>\n",
       "      <td>-3.726054</td>\n",
       "      <td>51.516993</td>\n",
       "      <td>-0.177388</td>\n",
       "      <td>NaN</td>\n",
       "    </tr>\n",
       "    <tr>\n",
       "      <th>4</th>\n",
       "      <td>5686</td>\n",
       "      <td>90008069</td>\n",
       "      <td>Worplesdon</td>\n",
       "      <td>ok</td>\n",
       "      <td>Worplesdon Rail Station → Waterloo Station</td>\n",
       "      <td>0.0</td>\n",
       "      <td>Waterloo Station</td>\n",
       "      <td>33.0</td>\n",
       "      <td>51.289016</td>\n",
       "      <td>-0.582578</td>\n",
       "      <td>51.502346</td>\n",
       "      <td>-0.114373</td>\n",
       "      <td>NaN</td>\n",
       "    </tr>\n",
       "  </tbody>\n",
       "</table>\n",
       "</div>"
      ],
      "text/plain": [
       "    nlc   icscode       station_name tfl_message  \\\n",
       "0  6846   1000691       White Notley          ok   \n",
       "1  5686  90008069         Worplesdon          ok   \n",
       "2  6551  90007791  Whitwell (Derbys)          ok   \n",
       "3  5827  90008172            Yeoford          ok   \n",
       "4  5686  90008069         Worplesdon          ok   \n",
       "\n",
       "                             natrail_journey_summary  natrail_train_changes  \\\n",
       "0  White Notley Rail Station → Stratford (London)...                    0.0   \n",
       "1         Worplesdon Rail Station → Waterloo Station                    0.0   \n",
       "2  Whitwell (Derbys) Rail Station → Worksop Rail ...                    3.0   \n",
       "3  Yeoford Rail Station → Exeter St Davids Rail S...                    1.0   \n",
       "4         Worplesdon Rail Station → Waterloo Station                    0.0   \n",
       "\n",
       "                      final_arrival  natrail_journey_minutes  depart_lat  \\\n",
       "0   Stratford (London) Rail Station                     44.0   51.838910   \n",
       "1                  Waterloo Station                     33.0   51.289016   \n",
       "2  London King's Cross Rail Station                    181.0   53.279959   \n",
       "3                Paddington Station                    173.0   50.776893   \n",
       "4                  Waterloo Station                     33.0   51.289016   \n",
       "\n",
       "   depart_lng  arrive_lat  arrive_lng error  \n",
       "0    0.595863   51.542234   -0.002819   NaN  \n",
       "1   -0.582578   51.502346   -0.114373   NaN  \n",
       "2   -1.200207   51.531579   -0.123243   NaN  \n",
       "3   -3.726054   51.516993   -0.177388   NaN  \n",
       "4   -0.582578   51.502346   -0.114373   NaN  "
      ]
     },
     "execution_count": 30,
     "metadata": {},
     "output_type": "execute_result"
    }
   ],
   "source": [
    "df2.head()"
   ]
  },
  {
   "cell_type": "code",
   "execution_count": 36,
   "metadata": {},
   "outputs": [],
   "source": [
    "df_arrivals = df2.drop_duplicates(\"final_arrival\")[[\"final_arrival\", \"arrive_lat\", \"arrive_lng\"]]"
   ]
  },
  {
   "cell_type": "code",
   "execution_count": 44,
   "metadata": {},
   "outputs": [
    {
     "name": "stdout",
     "output_type": "stream",
     "text": [
      "{'destination_addresses': ['London E14 5HP, UK'], 'origin_addresses': ['Gervase St, London SE15 2RS, UK'], 'rows': [{'elements': [{'distance': {'text': '5.1 mi', 'value': 8159}, 'duration': {'text': '25 mins', 'value': 1519}, 'status': 'OK'}]}], 'status': 'OK'}\n"
     ]
    },
    {
     "data": {
      "text/plain": [
       "{'miles': 5.069765989, 'minutes': 21.72756852428572}"
      ]
     },
     "execution_count": 44,
     "metadata": {},
     "output_type": "execute_result"
    }
   ],
   "source": [
    "# Next - need a bikedistance function that takes a lat lng and looks up \n",
    "\n",
    "\n",
    "\n",
    "get_cycle_info(origin_pc = \"SE152RS\", dest_pc= \"E145HP\")"
   ]
  },
  {
   "cell_type": "code",
   "execution_count": 37,
   "metadata": {},
   "outputs": [
    {
     "data": {
      "text/plain": [
       "{'destination_addresses': ['London E14 5HP, UK'],\n",
       " 'origin_addresses': ['22 Great Eastern Rd, London E15 1BB, UK'],\n",
       " 'rows': [{'elements': [{'distance': {'text': '3.9 mi', 'value': 6271},\n",
       "     'duration': {'text': '16 mins', 'value': 976},\n",
       "     'status': 'OK'}]}],\n",
       " 'status': 'OK'}"
      ]
     },
     "execution_count": 37,
     "metadata": {},
     "output_type": "execute_result"
    }
   ],
   "source": [
    "# Get unique London arrival poitns and for each compute miles and minutes by bike to canary wharf\n",
    "\n",
    "get_cycle_info"
   ]
  },
  {
   "cell_type": "code",
   "execution_count": null,
   "metadata": {},
   "outputs": [],
   "source": []
  }
 ],
 "metadata": {
  "kernelspec": {
   "display_name": "Python 3",
   "language": "python",
   "name": "python3"
  },
  "language_info": {
   "codemirror_mode": {
    "name": "ipython",
    "version": 3
   },
   "file_extension": ".py",
   "mimetype": "text/x-python",
   "name": "python",
   "nbconvert_exporter": "python",
   "pygments_lexer": "ipython3",
   "version": "3.6.1"
  }
 },
 "nbformat": 4,
 "nbformat_minor": 2
}
