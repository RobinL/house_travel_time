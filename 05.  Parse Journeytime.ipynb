{
 "cells": [
  {
   "cell_type": "code",
   "execution_count": null,
   "metadata": {},
   "outputs": [],
   "source": [
    "import parse_tfl_json\n",
    "import google"
   ]
  },
  {
   "cell_type": "code",
   "execution_count": null,
   "metadata": {},
   "outputs": [],
   "source": [
    "import pandas as pd \n",
    "from mylibrary.connections import cursor, conn, engine, Automapped_Base, session\n",
    "\n",
    "sql = \"\"\"\n",
    "select * from tt_h.stations_journeytime as sjt\n",
    "where tfl_message = 'ok' and\n",
    " sjt.icscode not in (select icscode from tt_h.all_stations where in_sprawl = true) and \n",
    " sjt.icscode in (select icscode from tt_h.all_stations where lat < 53.39926695813 and lng > -2.54)\n",
    "\"\"\"\n",
    "\n",
    "df = pd.read_sql(sql, conn)"
   ]
  },
  {
   "cell_type": "code",
   "execution_count": null,
   "metadata": {},
   "outputs": [],
   "source": [
    "from process_journeys import get_station_lat_lng_from_icscode, get_london_icscodes, add_cycle_and_total_time, remove_journeys_not_arriving_clondon\n",
    "from google import get_cycle_info\n",
    "import parse_tfl_json\n",
    "import json"
   ]
  },
  {
   "cell_type": "code",
   "execution_count": null,
   "metadata": {},
   "outputs": [],
   "source": [
    "for r in df.iterrows():\n",
    "    index = r[0]\n",
    "    row = r[1]\n",
    "    \n",
    "    lat, lng = get_station_lat_lng_from_icscode(row[\"icscode\"])\n",
    "\n",
    "    df.loc[index, \"depart_lat\"] = lat\n",
    "    df.loc[index, \"depart_lng\"] = lng\n",
    "    \n",
    "    try:\n",
    "        j1 = row[\"tfl_response\"]\n",
    "        j2 = json.loads(j1)\n",
    "    except:\n",
    "        print(\"parse problem\")\n",
    "        continue\n",
    "    \n",
    "    try:\n",
    "        journeys = j2[\"journeys\"]\n",
    "    except:\n",
    "        print(\"no journeys in json\")\n",
    "        continue\n",
    "    \n",
    "    # Fill in journey summary so it exists even for journeys that don't end in central london\n",
    "    journey = journeys[0]\n",
    "    legs = journey[\"legs\"]\n",
    "    summary = parse_tfl_json.summarise_legs(legs)\n",
    "    df.loc[index, \"natrail_journey_summary\"] = summary\n",
    "    \n",
    "    for journey in journeys:\n",
    "        legs = journey[\"legs\"]\n",
    "        journey[\"legs\"] = parse_tfl_json.remove_non_national_rail(legs)\n",
    "    \n",
    "    # Keep only journeys with a national rail component\n",
    "    journeys = [j for j in journeys if len(j[\"legs\"]) > 0]\n",
    "\n",
    "    # Keep only journeys that end in central London  \n",
    "    try:\n",
    "        journeys = remove_journeys_not_arriving_clondon(journeys)\n",
    "    except:\n",
    "        print(\"Problem with journey starting at {}\".format(row[\"station_name\"]))\n",
    "        continue\n",
    "\n",
    "    \n",
    "    if len(journeys) == 0:\n",
    "        continue\n",
    "\n",
    "    journeys = add_cycle_and_total_time(journeys, row[\"tfl_dest\"])\n",
    "\n",
    "    journeys = sorted(journeys, key = lambda x: x[\"total_time\"])\n",
    "\n",
    "    journey = journeys[0]\n",
    "    legs = journey[\"legs\"]\n",
    "\n",
    "    summary = parse_tfl_json.summarise_legs(legs)\n",
    "    df.loc[index, \"natrail_journey_summary\"] = summary\n",
    "\n",
    "    df.loc[index, \"natrail_train_changes\"] = parse_tfl_json.num_changes(legs)\n",
    "    df.loc[index, \"final_arrival\"] = parse_tfl_json.final_arrival(legs)\n",
    "\n",
    "    travel_time_minutes = parse_tfl_json.get_total_travel_time(legs) \n",
    "    df.loc[index, \"natrail_journey_minutes\"] = travel_time_minutes\n",
    "\n",
    "    lat_lng = parse_tfl_json.lat_lng_from_legs(legs)\n",
    "    \n",
    "    \n",
    "    df.loc[index, \"arrive_lat\"] = lat_lng[\"arrive\"][\"lat\"]\n",
    "    df.loc[index, \"arrive_lng\"] = lat_lng[\"arrive\"][\"lng\"]\n",
    "\n",
    "    df.loc[index, \"cycle_minutes\"] = journey[\"cycle_minutes\"]\n",
    "    df.loc[index, \"cycle_miles\"] = journey[\"cycle_miles\"]\n",
    "    df.loc[index, \"total_journeytime\"] = journey[\"cycle_minutes\"] + travel_time_minutes\n",
    "\n",
    "    \n",
    "    \n",
    "cols = [c for c in df.columns if c not in [\"id\", \"tfl_request\", \"tfl_response\", \"querydict\"]]\n",
    "df2 = df[cols]\n"
   ]
  },
  {
   "cell_type": "code",
   "execution_count": null,
   "metadata": {},
   "outputs": [],
   "source": [
    "df3 = df2.sort_values([\"station_name\", \"tfl_dest\", \"total_journeytime\"]).drop_duplicates([\"station_name\", \"tfl_dest\"])"
   ]
  },
  {
   "cell_type": "code",
   "execution_count": null,
   "metadata": {},
   "outputs": [],
   "source": [
    "df3.to_sql(\"parsed_rail_journeys\", engine, schema=\"tt_h\", if_exists=\"replace\", index=False)"
   ]
  },
  {
   "cell_type": "code",
   "execution_count": null,
   "metadata": {},
   "outputs": [],
   "source": []
  },
  {
   "cell_type": "code",
   "execution_count": null,
   "metadata": {},
   "outputs": [],
   "source": [
    "sql = \"\"\"\n",
    "ALTER TABLE tt_h.parsed_rail_journeys ADD COLUMN id SERIAL PRIMARY KEY;\n",
    "\"\"\"\n",
    "cursor.execute(sql)\n",
    "conn.commit()"
   ]
  },
  {
   "cell_type": "code",
   "execution_count": null,
   "metadata": {},
   "outputs": [],
   "source": [
    "sql = \"\"\"\n",
    "SELECT AddGeometryColumn ('tt_h', 'parsed_rail_journeys', 'geom', 27700, 'POINT', 2);\n",
    "UPDATE tt_h.parsed_rail_journeys SET geom = ST_Transform(ST_SetSRID(ST_MakePoint(depart_lng, depart_lat), 4326), 27700);\n",
    "CREATE INDEX idx_geom_parsed_rail_journeys ON tt_h.parsed_rail_journeys USING gist(geom);\n",
    "\n",
    "\"\"\" \n",
    "cursor.execute(sql)\n",
    "conn.commit()"
   ]
  },
  {
   "cell_type": "code",
   "execution_count": null,
   "metadata": {},
   "outputs": [],
   "source": [
    "sql = \"\"\"\n",
    "create view tt_h.parsed_rail_journeys_one_row_per_station_view as\n",
    "select \n",
    "pf.nlc,\n",
    "pf.icscode,\n",
    "pf.station_name,\n",
    "pf.tfl_message,\n",
    "pf.tfl_dest,\n",
    "pf.depart_lat,\n",
    "pf.depart_lng,\n",
    "pf.id,\n",
    "pf.geom,\n",
    "pf.natrail_journey_summary as natrail_journey_summary_pf,\n",
    "pf.natrail_train_changes as natrail_train_changes_pf,\n",
    "pf.final_arrival as final_arrival_pf,\n",
    "pf.natrail_journey_minutes as natrail_journey_minutes_pf,\n",
    "pf.arrive_lat as arrive_lat_pf,\n",
    "pf.arrive_lng as arrive_lng_pf,\n",
    "pf.total_journeytime as total_journeytime_pf ,\n",
    "cw.natrail_journey_summary as natrail_journey_summary_cw,\n",
    "cw.natrail_train_changes as natrail_train_changes_cw,\n",
    "cw.final_arrival as final_arrival_cw,\n",
    "cw.natrail_journey_minutes as natrail_journey_minutes_cw,\n",
    "cw.arrive_lat as arrive_lat_cw,\n",
    "cw.arrive_lng as arrive_lng_cw,\n",
    "cw.total_journeytime as total_journeytime_cw\n",
    "from\n",
    "(select * from tt_h.parsed_rail_journeys where tfl_dest = 'E145HP') as cw\n",
    "left join\n",
    "(select * from tt_h.parsed_rail_journeys where tfl_dest = 'SW1H9AJ') as pf\n",
    "on cw.nlc = pf.nlc\n",
    "\"\"\"\n",
    "cursor.execute(sql)\n",
    "conn.commit()"
   ]
  }
 ],
 "metadata": {
  "kernelspec": {
   "display_name": "Python 3",
   "language": "python",
   "name": "python3"
  },
  "language_info": {
   "codemirror_mode": {
    "name": "ipython",
    "version": 3
   },
   "file_extension": ".py",
   "mimetype": "text/x-python",
   "name": "python",
   "nbconvert_exporter": "python",
   "pygments_lexer": "ipython3",
   "version": "3.6.1"
  }
 },
 "nbformat": 4,
 "nbformat_minor": 2
}
