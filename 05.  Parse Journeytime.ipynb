{
 "cells": [
  {
   "cell_type": "code",
   "execution_count": 5,
   "metadata": {},
   "outputs": [],
   "source": [
    "import pandas as pd \n",
    "from mylibrary.connections import cursor, conn, engine, Automapped_Base, session\n",
    "\n",
    "sql = \"\"\"\n",
    "select * from tt_h.stations_journeytime_cw where tfl_message = 'ok' limit 3\n",
    "\"\"\"\n",
    "df = pd.read_sql(sql, conn)"
   ]
  },
  {
   "cell_type": "code",
   "execution_count": 4,
   "metadata": {},
   "outputs": [
    {
     "data": {
      "text/html": [
       "<div>\n",
       "<style>\n",
       "    .dataframe thead tr:only-child th {\n",
       "        text-align: right;\n",
       "    }\n",
       "\n",
       "    .dataframe thead th {\n",
       "        text-align: left;\n",
       "    }\n",
       "\n",
       "    .dataframe tbody tr th {\n",
       "        vertical-align: top;\n",
       "    }\n",
       "</style>\n",
       "<table border=\"1\" class=\"dataframe\">\n",
       "  <thead>\n",
       "    <tr style=\"text-align: right;\">\n",
       "      <th></th>\n",
       "      <th>nlc</th>\n",
       "      <th>icscode</th>\n",
       "      <th>station_name</th>\n",
       "      <th>id</th>\n",
       "      <th>tfl_request</th>\n",
       "      <th>tfl_response</th>\n",
       "      <th>querydict</th>\n",
       "      <th>journey_time</th>\n",
       "      <th>tfl_message</th>\n",
       "      <th>london_mainline_station_ics</th>\n",
       "      <th>london_mainline_station_text</th>\n",
       "    </tr>\n",
       "  </thead>\n",
       "  <tbody>\n",
       "    <tr>\n",
       "      <th>0</th>\n",
       "      <td>6846</td>\n",
       "      <td>1000691</td>\n",
       "      <td>White Notley</td>\n",
       "      <td>2553</td>\n",
       "      <td>https://api.tfl.gov.uk/Journey/JourneyResults/...</td>\n",
       "      <td>{\"$type\":\"Tfl.Api.Presentation.Entities.Journe...</td>\n",
       "      <td>{\"to\": \"E145HP\", \"id\": \"cedea352\", \"key\": \"396...</td>\n",
       "      <td>None</td>\n",
       "      <td>ok</td>\n",
       "      <td>None</td>\n",
       "      <td>None</td>\n",
       "    </tr>\n",
       "    <tr>\n",
       "      <th>1</th>\n",
       "      <td>5686</td>\n",
       "      <td>90008069</td>\n",
       "      <td>Worplesdon</td>\n",
       "      <td>2554</td>\n",
       "      <td>https://api.tfl.gov.uk/Journey/JourneyResults/...</td>\n",
       "      <td>{\"$type\":\"Tfl.Api.Presentation.Entities.Journe...</td>\n",
       "      <td>{\"to\": \"E145HP\", \"id\": \"cedea352\", \"key\": \"396...</td>\n",
       "      <td>None</td>\n",
       "      <td>ok</td>\n",
       "      <td>None</td>\n",
       "      <td>None</td>\n",
       "    </tr>\n",
       "    <tr>\n",
       "      <th>2</th>\n",
       "      <td>6551</td>\n",
       "      <td>90007791</td>\n",
       "      <td>Whitwell (Derbys)</td>\n",
       "      <td>2555</td>\n",
       "      <td>https://api.tfl.gov.uk/Journey/JourneyResults/...</td>\n",
       "      <td>{\"$type\":\"Tfl.Api.Presentation.Entities.Journe...</td>\n",
       "      <td>{\"to\": \"E145HP\", \"id\": \"cedea352\", \"key\": \"396...</td>\n",
       "      <td>None</td>\n",
       "      <td>ok</td>\n",
       "      <td>None</td>\n",
       "      <td>None</td>\n",
       "    </tr>\n",
       "  </tbody>\n",
       "</table>\n",
       "</div>"
      ],
      "text/plain": [
       "    nlc   icscode       station_name    id  \\\n",
       "0  6846   1000691       White Notley  2553   \n",
       "1  5686  90008069         Worplesdon  2554   \n",
       "2  6551  90007791  Whitwell (Derbys)  2555   \n",
       "\n",
       "                                         tfl_request  \\\n",
       "0  https://api.tfl.gov.uk/Journey/JourneyResults/...   \n",
       "1  https://api.tfl.gov.uk/Journey/JourneyResults/...   \n",
       "2  https://api.tfl.gov.uk/Journey/JourneyResults/...   \n",
       "\n",
       "                                        tfl_response  \\\n",
       "0  {\"$type\":\"Tfl.Api.Presentation.Entities.Journe...   \n",
       "1  {\"$type\":\"Tfl.Api.Presentation.Entities.Journe...   \n",
       "2  {\"$type\":\"Tfl.Api.Presentation.Entities.Journe...   \n",
       "\n",
       "                                           querydict journey_time tfl_message  \\\n",
       "0  {\"to\": \"E145HP\", \"id\": \"cedea352\", \"key\": \"396...         None          ok   \n",
       "1  {\"to\": \"E145HP\", \"id\": \"cedea352\", \"key\": \"396...         None          ok   \n",
       "2  {\"to\": \"E145HP\", \"id\": \"cedea352\", \"key\": \"396...         None          ok   \n",
       "\n",
       "  london_mainline_station_ics london_mainline_station_text  \n",
       "0                        None                         None  \n",
       "1                        None                         None  \n",
       "2                        None                         None  "
      ]
     },
     "execution_count": 4,
     "metadata": {},
     "output_type": "execute_result"
    }
   ],
   "source": []
  },
  {
   "cell_type": "code",
   "execution_count": 9,
   "metadata": {},
   "outputs": [],
   "source": [
    "j1 = df.loc[0,\"tfl_response\"]\n",
    "\n",
    "import json\n",
    "j2 = json.loads(j1)"
   ]
  },
  {
   "cell_type": "code",
   "execution_count": 17,
   "metadata": {},
   "outputs": [],
   "source": [
    "journeys = j2[\"journeys\"]"
   ]
  },
  {
   "cell_type": "code",
   "execution_count": 28,
   "metadata": {},
   "outputs": [],
   "source": [
    "journey = sorted(journeys, key = lambda x:  x[\"duration\"])[0]\n"
   ]
  },
  {
   "cell_type": "code",
   "execution_count": 47,
   "metadata": {},
   "outputs": [],
   "source": [
    "# Remove any journeys at the end which are not national rail\n",
    "# Initial assumption will be that all national rail legs are done\n",
    "def remove_non_national_rail(legs):\n",
    "    # Pop one at a time \n",
    "    while True:\n",
    "        leg = legs.pop()\n",
    "        if leg['mode']['id'] == \"national-rail\":\n",
    "            break\n",
    "    legs.append(leg)\n",
    "    return legs\n"
   ]
  },
  {
   "cell_type": "code",
   "execution_count": 49,
   "metadata": {},
   "outputs": [],
   "source": [
    "legs = journey[\"legs\"]\n",
    "legs = remove_non_national_rail(legs)"
   ]
  },
  {
   "cell_type": "code",
   "execution_count": 50,
   "metadata": {
    "collapsed": true
   },
   "outputs": [],
   "source": [
    "def summarise_legs(legs):\n",
    "    final_string_elems = []\n",
    "    for leg in legs:\n",
    "        final_string_elems.append(leg[\"departurePoint\"][\"commonName\"])\n",
    "    final_string_elems.append(leg[\"arrivalPoint\"][\"commonName\"])\n",
    "    return \" -> \".join(final_string_elems)"
   ]
  },
  {
   "cell_type": "code",
   "execution_count": 51,
   "metadata": {},
   "outputs": [
    {
     "data": {
      "text/plain": [
       "'White Notley Rail Station -> Stratford (London) Rail Station'"
      ]
     },
     "execution_count": 51,
     "metadata": {},
     "output_type": "execute_result"
    }
   ],
   "source": [
    "summarise_legs(legs)"
   ]
  },
  {
   "cell_type": "code",
   "execution_count": 65,
   "metadata": {},
   "outputs": [
    {
     "data": {
      "text/plain": [
       "44.0"
      ]
     },
     "execution_count": 65,
     "metadata": {},
     "output_type": "execute_result"
    }
   ],
   "source": [
    "from dateutil.parser import parse\n",
    "def get_total_travel_time(legs):\n",
    "    dt = parse(legs[0][\"departureTime\"])\n",
    "    at = parse(legs[-1][\"arrivalTime\"])\n",
    "    td = at-dt\n",
    "    return td.total_seconds()/60\n",
    "    \n",
    "get_total_travel_time(legs)  \n"
   ]
  },
  {
   "cell_type": "code",
   "execution_count": 77,
   "metadata": {},
   "outputs": [],
   "source": [
    "#need lat lng of final location\n",
    "#need lat lng of initial location \n",
    "def lat_lng_from_legs(legs):\n",
    "    d_lat = legs[0][\"departurePoint\"][\"lat\"]\n",
    "    d_lon = legs[0][\"departurePoint\"][\"lon\"]\n",
    "    a_lat = legs[-1][\"arrivalPoint\"][\"lat\"]\n",
    "    a_lon = legs[-1][\"arrivalPoint\"][\"lon\"]\n",
    "    \n",
    "    return {\"depart\":{\"lat\": d_lat, \"lng\":d_lon}, \"arrive\":{\"lat\":a_lat, \"lng\":a_lon}}\n"
   ]
  },
  {
   "cell_type": "code",
   "execution_count": 78,
   "metadata": {},
   "outputs": [
    {
     "data": {
      "text/plain": [
       "{'arrive': {'lat': 51.542234259219995, 'lng': -0.0028193822},\n",
       " 'depart': {'lat': 51.83891012131, 'lng': 0.59586342495}}"
      ]
     },
     "execution_count": 78,
     "metadata": {},
     "output_type": "execute_result"
    }
   ],
   "source": []
  },
  {
   "cell_type": "code",
   "execution_count": null,
   "metadata": {
    "collapsed": true
   },
   "outputs": [],
   "source": []
  }
 ],
 "metadata": {
  "kernelspec": {
   "display_name": "Python 3",
   "language": "python",
   "name": "python3"
  },
  "language_info": {
   "codemirror_mode": {
    "name": "ipython",
    "version": 3
   },
   "file_extension": ".py",
   "mimetype": "text/x-python",
   "name": "python",
   "nbconvert_exporter": "python",
   "pygments_lexer": "ipython3",
   "version": "3.6.1"
  }
 },
 "nbformat": 4,
 "nbformat_minor": 2
}
