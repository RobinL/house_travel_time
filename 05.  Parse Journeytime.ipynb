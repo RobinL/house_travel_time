{
 "cells": [
  {
   "cell_type": "code",
   "execution_count": 5,
   "metadata": {},
   "outputs": [],
   "source": [
    "import pandas as pd \n",
    "from mylibrary.connections import cursor, conn, engine, Automapped_Base, session\n",
    "\n",
    "sql = \"\"\"\n",
    "select * from tt_h.stations_journeytime_cw where tfl_message = 'ok' limit 3\n",
    "\"\"\"\n",
    "df = pd.read_sql(sql, conn)"
   ]
  },
  {
   "cell_type": "code",
   "execution_count": 83,
   "metadata": {},
   "outputs": [],
   "source": [
    "import json \n",
    "\n",
    "for r in df.iterrows():\n",
    "    index = r[0]\n",
    "    row = r[1]\n",
    "\n",
    "    j1 = row[\"tfl_response\"]\n",
    "    j2 = json.loads(j1)\n",
    "    \n",
    "    journeys = j2[\"journeys\"]\n",
    "    journey = sorted(journeys, key = lambda x:  x[\"duration\"])[0]\n",
    "    \n",
    "    legs = journey[\"legs\"]\n",
    "    \n",
    "    legs = remove_non_national_rail(legs)\n",
    "    \n",
    "    summary = summarise_legs(legs)\n",
    "    travel_time_minutes = get_total_travel_time(legs) \n",
    "    \n",
    "    lat_lng_from_legs(legs):\n",
    "    \n",
    "    \n",
    "    df.loc[index, \"hello\"] \n",
    "\n",
    "\n"
   ]
  },
  {
   "cell_type": "code",
   "execution_count": 17,
   "metadata": {},
   "outputs": [],
   "source": []
  },
  {
   "cell_type": "code",
   "execution_count": 28,
   "metadata": {},
   "outputs": [],
   "source": [
    "\n"
   ]
  },
  {
   "cell_type": "code",
   "execution_count": 47,
   "metadata": {},
   "outputs": [],
   "source": [
    "# Remove any journeys at the end which are not national rail\n",
    "# Initial assumption will be that all national rail legs are done\n",
    "def remove_non_national_rail(legs):\n",
    "    # Pop one at a time \n",
    "    while True:\n",
    "        leg = legs.pop()\n",
    "        if leg['mode']['id'] == \"national-rail\":\n",
    "            break\n",
    "    legs.append(leg)\n",
    "    return legs\n"
   ]
  },
  {
   "cell_type": "code",
   "execution_count": 49,
   "metadata": {},
   "outputs": [],
   "source": []
  },
  {
   "cell_type": "code",
   "execution_count": 50,
   "metadata": {
    "collapsed": true
   },
   "outputs": [],
   "source": [
    "def summarise_legs(legs):\n",
    "    final_string_elems = []\n",
    "    for leg in legs:\n",
    "        final_string_elems.append(leg[\"departurePoint\"][\"commonName\"])\n",
    "    final_string_elems.append(leg[\"arrivalPoint\"][\"commonName\"])\n",
    "    return \" -> \".join(final_string_elems)"
   ]
  },
  {
   "cell_type": "code",
   "execution_count": 51,
   "metadata": {},
   "outputs": [
    {
     "data": {
      "text/plain": [
       "'White Notley Rail Station -> Stratford (London) Rail Station'"
      ]
     },
     "execution_count": 51,
     "metadata": {},
     "output_type": "execute_result"
    }
   ],
   "source": [
    "summarise_legs(legs)"
   ]
  },
  {
   "cell_type": "code",
   "execution_count": 65,
   "metadata": {},
   "outputs": [
    {
     "data": {
      "text/plain": [
       "44.0"
      ]
     },
     "execution_count": 65,
     "metadata": {},
     "output_type": "execute_result"
    }
   ],
   "source": [
    "from dateutil.parser import parse\n",
    "def get_total_travel_time(legs):\n",
    "    dt = parse(legs[0][\"departureTime\"])\n",
    "    at = parse(legs[-1][\"arrivalTime\"])\n",
    "    td = at-dt\n",
    "    return td.total_seconds()/60\n",
    "    \n",
    "get_total_travel_time(legs)  \n"
   ]
  },
  {
   "cell_type": "code",
   "execution_count": 77,
   "metadata": {},
   "outputs": [],
   "source": [
    "#need lat lng of final location\n",
    "#need lat lng of initial location \n",
    "def lat_lng_from_legs(legs):\n",
    "    d_lat = legs[0][\"departurePoint\"][\"lat\"]\n",
    "    d_lon = legs[0][\"departurePoint\"][\"lon\"]\n",
    "    a_lat = legs[-1][\"arrivalPoint\"][\"lat\"]\n",
    "    a_lon = legs[-1][\"arrivalPoint\"][\"lon\"]\n",
    "    \n",
    "    return {\"depart\":{\"lat\": d_lat, \"lng\":d_lon}, \"arrive\":{\"lat\":a_lat, \"lng\":a_lon}}\n"
   ]
  },
  {
   "cell_type": "code",
   "execution_count": null,
   "metadata": {
    "collapsed": true
   },
   "outputs": [],
   "source": []
  }
 ],
 "metadata": {
  "kernelspec": {
   "display_name": "Python 3",
   "language": "python",
   "name": "python3"
  },
  "language_info": {
   "codemirror_mode": {
    "name": "ipython",
    "version": 3
   },
   "file_extension": ".py",
   "mimetype": "text/x-python",
   "name": "python",
   "nbconvert_exporter": "python",
   "pygments_lexer": "ipython3",
   "version": "3.6.1"
  }
 },
 "nbformat": 4,
 "nbformat_minor": 2
}
