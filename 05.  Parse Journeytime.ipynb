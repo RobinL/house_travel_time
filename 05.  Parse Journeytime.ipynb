{
 "cells": [
  {
   "cell_type": "code",
   "execution_count": 61,
   "metadata": {},
   "outputs": [],
   "source": [
    "import parse_tfl_json\n",
    "import google"
   ]
  },
  {
   "cell_type": "code",
   "execution_count": 63,
   "metadata": {},
   "outputs": [],
   "source": [
    "import pandas as pd \n",
    "from mylibrary.connections import cursor, conn, engine, Automapped_Base, session\n",
    "\n",
    "sql = \"\"\"\n",
    "select * from tt_h.stations_journeytime \n",
    "where tfl_message = 'ok' \n",
    "limit 2\n",
    "\"\"\"\n",
    "df = pd.read_sql(sql, conn)"
   ]
  },
  {
   "cell_type": "code",
   "execution_count": 21,
   "metadata": {},
   "outputs": [],
   "source": [
    "from process_journeys import get_london_icscodes, get_cycle_time_mem, add_cycle_and_total_time, remove_nonlondon_journeys\n",
    "from google import get_cycle_info\n",
    "import parse_tfl_json\n",
    "import json"
   ]
  },
  {
   "cell_type": "code",
   "execution_count": 65,
   "metadata": {},
   "outputs": [],
   "source": [
    "for r in df.iterrows():\n",
    "    index = r[0]\n",
    "    row = r[1]\n",
    "\n",
    "    j1 = row[\"tfl_response\"]\n",
    "    j2 = json.loads(j1)\n",
    "    \n",
    "    journeys = j2[\"journeys\"]\n",
    "    \n",
    "    # Keep only journeys that end in central London\n",
    "    for journey in journeys:\n",
    "        legs = journey[\"legs\"]\n",
    "        journey[\"legs\"] = parse_tfl_json.remove_non_national_rail(legs)\n",
    "\n",
    "    journeys = remove_nonlondon_journeys(journeys)\n",
    "\n",
    "    journeys = add_cycle_and_total_time(journeys, row[\"tfl_dest\"])\n",
    "\n",
    "    journeys = sorted(journeys, key = lambda x: x[\"total_time\"])\n",
    "\n",
    "    journey = journeys[0]\n",
    "    legs = journey[\"legs\"]\n",
    "\n",
    "    summary = parse_tfl_json.summarise_legs(legs)\n",
    "    df.loc[index, \"natrail_journey_summary\"] = summary\n",
    "\n",
    "    df.loc[index, \"natrail_train_changes\"] = parse_tfl_json.num_changes(legs)\n",
    "    df.loc[index, \"final_arrival\"] = parse_tfl_json.final_arrival(legs)\n",
    "\n",
    "    travel_time_minutes = parse_tfl_json.get_total_travel_time(legs) \n",
    "    df.loc[index, \"natrail_journey_minutes\"] = travel_time_minutes\n",
    "\n",
    "    lat_lng = parse_tfl_json.lat_lng_from_legs(legs)\n",
    "\n",
    "    df.loc[index, \"depart_lat\"] = lat_lng[\"depart\"][\"lat\"]\n",
    "    df.loc[index, \"depart_lng\"] = lat_lng[\"depart\"][\"lng\"]\n",
    "    df.loc[index, \"arrive_lat\"] = lat_lng[\"arrive\"][\"lat\"]\n",
    "    df.loc[index, \"arrive_lng\"] = lat_lng[\"arrive\"][\"lng\"]\n",
    "\n",
    "    df.loc[index, \"cycle_minutes\"] = journey[\"cycle_minutes\"]\n",
    "    df.loc[index, \"cycle_miles\"] = journey[\"cycle_miles\"]\n",
    "    df.loc[index, \"total_journeytime\"] = journey[\"cycle_minutes\"] + travel_time_minutes\n",
    "\n",
    "#     except Exception as e:\n",
    "#         df.loc[index, \"error\"] = \"Parse problem\"\n",
    "    \n",
    "    \n",
    "    \n",
    "cols = [c for c in df.columns if c not in [\"id\", \"tfl_request\", \"tfl_response\", \"querydict\", \"journey_time\", \"london_mainline_station_ics\", \"london_mainline_station_text\"]]\n",
    "df2 = df[cols]"
   ]
  },
  {
   "cell_type": "code",
   "execution_count": 66,
   "metadata": {},
   "outputs": [
    {
     "data": {
      "text/plain": [
       "{'$type': 'Tfl.Api.Presentation.Entities.JourneyPlanner.Journey, Tfl.Api.Presentation.Entities',\n",
       " 'arrivalDateTime': '2017-09-08T13:20:00',\n",
       " 'cycle_miles': 3.98298811,\n",
       " 'cycle_minutes': 17.069949042857143,\n",
       " 'duration': 195,\n",
       " 'legs': [{'$type': 'Tfl.Api.Presentation.Entities.JourneyPlanner.Leg, Tfl.Api.Presentation.Entities',\n",
       "   'arrivalPoint': {'$type': 'Tfl.Api.Presentation.Entities.StopPoint, Tfl.Api.Presentation.Entities',\n",
       "    'additionalProperties': [],\n",
       "    'commonName': 'Birmingham New Street Rail Station',\n",
       "    'icsCode': '90000591',\n",
       "    'lat': 52.478183735600005,\n",
       "    'lon': -1.89833464716,\n",
       "    'naptanId': '910GBHAMNWS',\n",
       "    'placeType': 'StopPoint',\n",
       "    'platformName': ''},\n",
       "   'arrivalTime': '2017-09-08T11:09:00',\n",
       "   'departurePoint': {'$type': 'Tfl.Api.Presentation.Entities.StopPoint, Tfl.Api.Presentation.Entities',\n",
       "    'additionalProperties': [],\n",
       "    'commonName': 'Colwall Rail Station',\n",
       "    'icsCode': '90001586',\n",
       "    'lat': 52.07986672626,\n",
       "    'lon': -2.35695005028,\n",
       "    'naptanId': '910GCLWALL',\n",
       "    'placeType': 'StopPoint',\n",
       "    'platformName': ''},\n",
       "   'departureTime': '2017-09-08T10:05:00',\n",
       "   'disruptions': [],\n",
       "   'duration': 64,\n",
       "   'hasFixedLocations': True,\n",
       "   'instruction': {'$type': 'Tfl.Api.Presentation.Entities.Instruction, Tfl.Api.Presentation.Entities',\n",
       "    'detailed': 'London Midland towards Birmingham New Street',\n",
       "    'steps': [],\n",
       "    'summary': 'London Midland to Birmingham New Street'},\n",
       "   'isDisrupted': False,\n",
       "   'mode': {'$type': 'Tfl.Api.Presentation.Entities.Identifier, Tfl.Api.Presentation.Entities',\n",
       "    'id': 'national-rail',\n",
       "    'name': 'national-rail',\n",
       "    'type': 'Mode'},\n",
       "   'obstacles': [],\n",
       "   'path': {'$type': 'Tfl.Api.Presentation.Entities.JourneyPlanner.Path, Tfl.Api.Presentation.Entities',\n",
       "    'elevation': [],\n",
       "    'stopPoints': [{'$type': 'Tfl.Api.Presentation.Entities.Identifier, Tfl.Api.Presentation.Entities',\n",
       "      'id': '910GGTMLVRN',\n",
       "      'name': 'Great Malvern Rail Station',\n",
       "      'type': 'StopPoint',\n",
       "      'uri': '/StopPoint/910GGTMLVRN'},\n",
       "     {'$type': 'Tfl.Api.Presentation.Entities.Identifier, Tfl.Api.Presentation.Entities',\n",
       "      'id': '910GMLVRNLK',\n",
       "      'name': 'Malvern Link Rail Station',\n",
       "      'type': 'StopPoint',\n",
       "      'uri': '/StopPoint/910GMLVRNLK'},\n",
       "     {'$type': 'Tfl.Api.Presentation.Entities.Identifier, Tfl.Api.Presentation.Entities',\n",
       "      'id': '910GWORCSFS',\n",
       "      'name': 'Worcester Foregate Street Rail Station',\n",
       "      'type': 'StopPoint',\n",
       "      'uri': '/StopPoint/910GWORCSFS'},\n",
       "     {'$type': 'Tfl.Api.Presentation.Entities.Identifier, Tfl.Api.Presentation.Entities',\n",
       "      'id': '910GDRTWCHS',\n",
       "      'name': 'Droitwich Spa Rail Station',\n",
       "      'type': 'StopPoint',\n",
       "      'uri': '/StopPoint/910GDRTWCHS'},\n",
       "     {'$type': 'Tfl.Api.Presentation.Entities.Identifier, Tfl.Api.Presentation.Entities',\n",
       "      'id': '910GBRMSGRV',\n",
       "      'name': 'Bromsgrove Rail Station',\n",
       "      'type': 'StopPoint',\n",
       "      'uri': '/StopPoint/910GBRMSGRV'},\n",
       "     {'$type': 'Tfl.Api.Presentation.Entities.Identifier, Tfl.Api.Presentation.Entities',\n",
       "      'id': '910GUNVRSYB',\n",
       "      'name': 'University Rail Station',\n",
       "      'type': 'StopPoint',\n",
       "      'uri': '/StopPoint/910GUNVRSYB'},\n",
       "     {'$type': 'Tfl.Api.Presentation.Entities.Identifier, Tfl.Api.Presentation.Entities',\n",
       "      'id': '910GBHAMNWS',\n",
       "      'name': 'Birmingham New Street Rail Station',\n",
       "      'type': 'StopPoint',\n",
       "      'uri': '/StopPoint/910GBHAMNWS'}]},\n",
       "   'plannedWorks': [],\n",
       "   'routeOptions': [{'$type': 'Tfl.Api.Presentation.Entities.JourneyPlanner.RouteOption, Tfl.Api.Presentation.Entities',\n",
       "     'directions': ['Birmingham New Street Rail Station'],\n",
       "     'name': 'London Midland'}]},\n",
       "  {'$type': 'Tfl.Api.Presentation.Entities.JourneyPlanner.Leg, Tfl.Api.Presentation.Entities',\n",
       "   'arrivalPoint': {'$type': 'Tfl.Api.Presentation.Entities.StopPoint, Tfl.Api.Presentation.Entities',\n",
       "    'additionalProperties': [],\n",
       "    'commonName': 'Euston Station',\n",
       "    'icsCode': '1000077',\n",
       "    'lat': 51.528952007200004,\n",
       "    'lon': -0.1350003194,\n",
       "    'naptanId': '490G00077B',\n",
       "    'placeType': 'StopPoint',\n",
       "    'platformName': ''},\n",
       "   'arrivalTime': '2017-09-08T12:55:00',\n",
       "   'departurePoint': {'$type': 'Tfl.Api.Presentation.Entities.StopPoint, Tfl.Api.Presentation.Entities',\n",
       "    'additionalProperties': [],\n",
       "    'commonName': 'Birmingham New Street Rail Station',\n",
       "    'icsCode': '90000591',\n",
       "    'lat': 52.478183735600005,\n",
       "    'lon': -1.89833464716,\n",
       "    'naptanId': '910GBHAMNWS',\n",
       "    'placeType': 'StopPoint',\n",
       "    'platformName': ''},\n",
       "   'departureTime': '2017-09-08T11:30:00',\n",
       "   'disruptions': [],\n",
       "   'duration': 85,\n",
       "   'hasFixedLocations': True,\n",
       "   'instruction': {'$type': 'Tfl.Api.Presentation.Entities.Instruction, Tfl.Api.Presentation.Entities',\n",
       "    'detailed': 'Virgin Trains towards London Euston',\n",
       "    'steps': [],\n",
       "    'summary': 'Virgin Trains to London Euston'},\n",
       "   'isDisrupted': False,\n",
       "   'mode': {'$type': 'Tfl.Api.Presentation.Entities.Identifier, Tfl.Api.Presentation.Entities',\n",
       "    'id': 'national-rail',\n",
       "    'name': 'national-rail',\n",
       "    'type': 'Mode'},\n",
       "   'obstacles': [{'$type': 'Tfl.Api.Presentation.Entities.JourneyPlanner.Obstacle, Tfl.Api.Presentation.Entities',\n",
       "     'incline': 'DOWN',\n",
       "     'position': 'AFTER',\n",
       "     'stopId': 1000077,\n",
       "     'type': 'ESCALATOR'},\n",
       "    {'$type': 'Tfl.Api.Presentation.Entities.JourneyPlanner.Obstacle, Tfl.Api.Presentation.Entities',\n",
       "     'incline': 'DOWN',\n",
       "     'position': 'AFTER',\n",
       "     'stopId': 1000077,\n",
       "     'type': 'ESCALATOR'},\n",
       "    {'$type': 'Tfl.Api.Presentation.Entities.JourneyPlanner.Obstacle, Tfl.Api.Presentation.Entities',\n",
       "     'incline': 'DOWN',\n",
       "     'position': 'AFTER',\n",
       "     'stopId': 1000077,\n",
       "     'type': 'STAIRS'}],\n",
       "   'path': {'$type': 'Tfl.Api.Presentation.Entities.JourneyPlanner.Path, Tfl.Api.Presentation.Entities',\n",
       "    'elevation': [],\n",
       "    'lineString': '[[51.66362311447, -0.39628231722],[51.66162825043, -0.3937501886],[51.6611613784, -0.39314498137],[51.66004490354, -0.39172419987],[51.65980687, -0.39141454919],[51.65899112748, -0.39028680799],[51.65684056952, -0.38755831984],[51.65618234526, -0.38677209205],[51.6552882523, -0.38583524248],[51.65463259973, -0.38523690821],[51.65337238651, -0.38448661098],[51.65239853978, -0.38428994228],[51.64988939425, -0.38426351378],[51.64826322474, -0.38436469158],[51.64692505729, -0.38448453149],[51.64472323214, -0.38522764295],[51.64291427714, -0.38576884478],[51.63960054899, -0.38673915898],[51.63768194672, -0.38715406497],[51.63594851317, -0.38730225846],[51.63424944276, -0.38733362088],[51.63247589153, -0.38717977884],[51.63037263164, -0.38658973121],[51.62920666943, -0.3861543004],[51.62293950121, -0.38290953129],[51.62132576708, -0.38195568653],[51.61950652993, -0.38044585554],[51.61856784887, -0.37954034739],[51.61777276449, -0.37861531402],[51.61616320171, -0.37666492541],[51.61275143821, -0.37249702612],[51.61193732312, -0.37150069769],[51.6080319654, -0.36612372933],[51.60633205722, -0.36351314525],[51.60411882145, -0.35956383878],[51.60289016586, -0.35722551024],[51.59974230407, -0.35076933592],[51.5971263611, -0.34507436643],[51.59526364273, -0.34115727978],[51.59379972564, -0.33810661611],[51.58978790587, -0.32977913264],[51.58770260594, -0.32542397772],[51.5863913648, -0.32301826087],[51.58479082485, -0.32050787249],[51.58210624863, -0.31702733923],[51.58054373024, -0.31529536891],[51.57922149261, -0.31401646475],[51.57760244846, -0.31273419331],[51.57652215702, -0.31202374741],[51.57101652945, -0.30873562029],[51.56757826459, -0.30664115405],[51.56291561637, -0.30382788127],[51.55877228224, -0.30148630879],[51.55582276363, -0.29961992868],[51.55343064474, -0.29774740224],[51.55247294997, -0.29681673296],[51.55137771496, -0.29570373217],[51.5498533002, -0.29290487911],[51.54822685279, -0.29051387557],[51.54714696034, -0.28860731428],[51.54663877409, -0.28767450829],[51.54641360881, -0.28703395958],[51.54624524569, -0.28597303906],[51.54609154883, -0.28530097313],[51.54481160103, -0.28079181194],[51.54465871995, -0.2801774402],[51.54460554184, -0.27961699885],[51.54460269066, -0.27880949111],[51.54454073022, -0.27826380513],[51.54354806563, -0.27557563319],[51.54342656943, -0.27526295669],[51.54293010483, -0.27391171542],[51.5419121456, -0.27073438014],[51.54013734416, -0.26624483674],[51.53981405561, -0.26566589395],[51.5393931829, -0.2651771906],[51.53898047508, -0.26402486797],[51.53797634833, -0.26179919146],[51.53733678965, -0.26051138807],[51.53663901025, -0.25954306439],[51.53533843009, -0.25673774943],[51.53461320075, -0.25453057584],[51.53283877754, -0.2489033269],[51.53232226195, -0.24683255558],[51.53148734884, -0.24331789774],[51.53101178284, -0.24098615667],[51.53044154795, -0.23714430123],[51.53029329994, -0.23505952631],[51.53028084404, -0.23482933204],[51.53024378351, -0.23356204848],[51.53020687358, -0.23111254799],[51.53029653387, -0.22930691498],[51.53034704391, -0.22848317023],[51.53051879457, -0.22497308996],[51.53073181529, -0.2224129227],[51.53090372675, -0.22129608139],[51.53121966178, -0.21959691156],[51.53173286022, -0.21727005157],[51.53303372536, -0.21116360534],[51.53343278334, -0.2090284731],[51.53420883796, -0.20449942873],[51.53446669521, -0.20313393126],[51.53474796295, -0.20153679597],[51.53558739041, -0.19763942023],[51.53586779329, -0.19657575082],[51.53644132679, -0.19469299609],[51.53726357755, -0.19261288785],[51.53899672223, -0.1883768233],[51.53948893948, -0.18705945535],[51.53983259863, -0.18602195331],[51.54020729037, -0.1846659503],[51.54086223688, -0.18224605385],[51.54141022653, -0.17931120335],[51.54176647949, -0.17677331265],[51.54194897697, -0.17520854586],[51.54212089605, -0.17354324204],[51.54243231394, -0.17102148362],[51.54257834424, -0.17000614081],[51.54288655132, -0.16785941594],[51.54307836644, -0.16632304143],[51.54327756986, -0.16468540602],[51.54336556334, -0.16341277239],[51.54339379631, -0.16234444284],[51.54340607889, -0.16140654856],[51.54331401983, -0.15954988529],[51.54304085259, -0.15589786581],[51.54276293317, -0.15423622609],[51.5424774548, -0.15323829],[51.54214099846, -0.1524299061],[51.54178747146, -0.15167990984],[51.54138229087, -0.15107622791],[51.5400535411, -0.14950056629],[51.53570884032, -0.14486079527],[51.53519578537, -0.14426163994],[51.53471356361, -0.14390636331],[51.53348585572, -0.14247120528],[51.53273183084, -0.14142053552],[51.53212181203, -0.14037844944],[51.53145260722, -0.13900719494],[51.53077279877, -0.13753548988],[51.53028970384, -0.13656040354],[51.52995817237, -0.13606933464],[51.5289520072, -0.1350003194]]',\n",
       "    'stopPoints': [{'$type': 'Tfl.Api.Presentation.Entities.Identifier, Tfl.Api.Presentation.Entities',\n",
       "      'id': '910GBHAMINT',\n",
       "      'name': 'Birmingham International Rail Station',\n",
       "      'type': 'StopPoint',\n",
       "      'uri': '/StopPoint/910GBHAMINT'},\n",
       "     {'$type': 'Tfl.Api.Presentation.Entities.Identifier, Tfl.Api.Presentation.Entities',\n",
       "      'id': '910GCOVNTRY',\n",
       "      'name': 'Coventry Rail Station',\n",
       "      'type': 'StopPoint',\n",
       "      'uri': '/StopPoint/910GCOVNTRY'},\n",
       "     {'$type': 'Tfl.Api.Presentation.Entities.Identifier, Tfl.Api.Presentation.Entities',\n",
       "      'id': '910GWATFDJ',\n",
       "      'name': 'Watford Junction Rail Station',\n",
       "      'type': 'StopPoint',\n",
       "      'uri': '/StopPoint/910GWATFDJ'},\n",
       "     {'$type': 'Tfl.Api.Presentation.Entities.Identifier, Tfl.Api.Presentation.Entities',\n",
       "      'id': '490G00077B',\n",
       "      'name': 'Euston Station',\n",
       "      'type': 'StopPoint',\n",
       "      'uri': '/StopPoint/490G00077B'}]},\n",
       "   'plannedWorks': [],\n",
       "   'routeOptions': [{'$type': 'Tfl.Api.Presentation.Entities.JourneyPlanner.RouteOption, Tfl.Api.Presentation.Entities',\n",
       "     'directions': ['London Euston Rail Station'],\n",
       "     'name': 'Virgin Trains'}]}],\n",
       " 'startDateTime': '2017-09-08T10:05:00',\n",
       " 'total_time': 187.06994904285713}"
      ]
     },
     "execution_count": 66,
     "metadata": {},
     "output_type": "execute_result"
    }
   ],
   "source": [
    "journey"
   ]
  },
  {
   "cell_type": "code",
   "execution_count": null,
   "metadata": {},
   "outputs": [],
   "source": [
    "df2\n"
   ]
  },
  {
   "cell_type": "code",
   "execution_count": null,
   "metadata": {},
   "outputs": [],
   "source": [
    "df3 = df2.sort_values([\"station_name\", \"total_journeytime\"]).drop_duplicates(\"station_name\")"
   ]
  },
  {
   "cell_type": "code",
   "execution_count": null,
   "metadata": {},
   "outputs": [],
   "source": [
    "df_arrivals = df2.drop_duplicates(\"final_arrival\")[[\"final_arrival\", \"arrive_lat\", \"arrive_lng\"]]\n"
   ]
  },
  {
   "cell_type": "code",
   "execution_count": null,
   "metadata": {},
   "outputs": [],
   "source": [
    "df_arrivals = df_arrivals[[\"final_arrival\", \"cycle_miles_london\", \"cycle_minutes_london\"]]\n",
    "df4 = df3.merge(df_arrivals, how = \"left\", left_on = \"final_arrival\", right_on = \"final_arrival\")"
   ]
  },
  {
   "cell_type": "code",
   "execution_count": null,
   "metadata": {},
   "outputs": [],
   "source": [
    "keep = [\"station_name\", \"natrail_journey_summary\", \"depart_lat\", \"depart_lng\", \"natrail_journey_minutes\",\"cycle_minutes_london\"]\n",
    "df4 = df4[keep]\n",
    "df4[\"total_minutes\"] = df4[\"cycle_minutes_london\"] + df4[\"natrail_journey_minutes\"]\n"
   ]
  },
  {
   "cell_type": "code",
   "execution_count": null,
   "metadata": {},
   "outputs": [],
   "source": [
    "# Want to update all the names to be cw specific \n",
    "df5 = df4.rename(columns={\"depart_lat\" : \"lat\", \"depart_lng\": \"lng\", \"station_name\": \"name\"})"
   ]
  },
  {
   "cell_type": "code",
   "execution_count": null,
   "metadata": {},
   "outputs": [],
   "source": [
    "df5.to_csv(\"cw_to_map.csv\", encoding=\"utf-8\", index=False)"
   ]
  },
  {
   "cell_type": "code",
   "execution_count": null,
   "metadata": {},
   "outputs": [],
   "source": [
    "df5.columns"
   ]
  },
  {
   "cell_type": "code",
   "execution_count": null,
   "metadata": {},
   "outputs": [],
   "source": [
    "# To do - pick best journey time by total, not just the time on the train.  \n",
    "# We can filter out suggested journeys where the lat lng is outside of central London"
   ]
  },
  {
   "cell_type": "code",
   "execution_count": null,
   "metadata": {},
   "outputs": [],
   "source": [
    "journeys[1]"
   ]
  },
  {
   "cell_type": "code",
   "execution_count": null,
   "metadata": {},
   "outputs": [],
   "source": []
  }
 ],
 "metadata": {
  "kernelspec": {
   "display_name": "Python 3",
   "language": "python",
   "name": "python3"
  },
  "language_info": {
   "codemirror_mode": {
    "name": "ipython",
    "version": 3
   },
   "file_extension": ".py",
   "mimetype": "text/x-python",
   "name": "python",
   "nbconvert_exporter": "python",
   "pygments_lexer": "ipython3",
   "version": "3.6.1"
  }
 },
 "nbformat": 4,
 "nbformat_minor": 2
}
