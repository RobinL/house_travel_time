{
 "cells": [
  {
   "cell_type": "markdown",
   "metadata": {},
   "source": [
    "We need the ics code for stations so that we can look them up on the TFL Journeyplanner"
   ]
  },
  {
   "cell_type": "code",
   "execution_count": 1,
   "metadata": {},
   "outputs": [
    {
     "name": "stderr",
     "output_type": "stream",
     "text": [
      "/Users/robinlinacre/anaconda/lib/python3.6/site-packages/sqlalchemy/dialects/postgresql/base.py:2526: SAWarning: Did not recognize type 'geometry' of column 'geom'\n",
      "  (attype, name))\n"
     ]
    }
   ],
   "source": [
    "# Use SQLAlchemy to write each one to the database\n",
    "\n",
    "from mylibrary.connections import Automapped_Base, conn, engine,session\n",
    "from mylibrary.secrets import app_id, app_key\n",
    "Stations = Automapped_Base.classes.all_stations"
   ]
  },
  {
   "cell_type": "code",
   "execution_count": 2,
   "metadata": {},
   "outputs": [],
   "source": [
    "# Grab a list of all the ids of records which need to be matched\n",
    "nlcs = session.query(Stations.nlc).filter(Stations.tfl_response != None).all()"
   ]
  },
  {
   "cell_type": "code",
   "execution_count": 3,
   "metadata": {},
   "outputs": [],
   "source": [
    "import json\n",
    "import pandas as pd\n",
    "def process_icsCode(station):\n",
    "   \n",
    "    tfl_response_json = json.loads(station.tfl_response)\n",
    "    \n",
    "    return_object = {}\n",
    "    \n",
    "    if len(tfl_response_json[\"places\"])==0:\n",
    "        return_object[\"icscode\"] = None\n",
    "        return_object[\"icscode_status\"] = \"failed - no places in json\"\n",
    "        return return_object\n",
    "    \n",
    "    def contains_rail(x):\n",
    "        return \"national-rail\" in x\n",
    "    \n",
    "    #Try to find a station of type \"NaptanRailStation\",\"NaptanRailAccessArea\", sort by distance\n",
    "    try:\n",
    "        df = pd.DataFrame(tfl_response_json[\"places\"]).sort_values(\"distance\")\n",
    "        df = df[df[\"stopType\"].isin([\"NaptanRailStation\",\"NaptanRailAccessArea\", \"NaptanPublicBusCoachTram\"])]\n",
    "        df = df[df[\"placeType\"] == \"StopPoint\"]\n",
    "        df = df[df[\"modes\"].apply(contains_rail)]\n",
    "        df = df[pd.notnull(df[\"icsCode\"])]\n",
    "        return_object[\"icscode\"] = df.iloc[0][\"icsCode\"]\n",
    "        return_object[\"icscode_status\"] = \"ok\"\n",
    "        return return_object\n",
    "    except:\n",
    "        pass\n",
    "\n",
    "    #Make a last ditch attempt if that didn't work - based on icscodes in a format that seem to represent valid stations.\n",
    "    try:\n",
    "        df = pd.DataFrame(tfl_response_json[\"places\"]).sort_values(\"distance\")\n",
    "        f1 = df[\"icsCode\"].astype(str).str[:2] == \"10\"\n",
    "        f2 = df[\"icsCode\"].astype(str).str[:2] == \"90\"\n",
    "        df = df[f1|f2]\n",
    "\n",
    "        return_object[\"icscode\"] = df.iloc[0][\"icsCode\"]\n",
    "        return_object[\"icscode_status\"] = \"ok\"\n",
    "        return return_object\n",
    "    except:\n",
    "        return_object[\"icscode\"] = None\n",
    "        return_object[\"icscode_status\"] = \"failed - during filtering\"\n",
    "        return return_object\n",
    "    \n",
    "\n",
    "    return_object[\"icscode\"] = None\n",
    "    return_object[\"icscode_status\"] = \"failed - after filtering, no match\"\n",
    "    return return_object"
   ]
  },
  {
   "cell_type": "code",
   "execution_count": 4,
   "metadata": {},
   "outputs": [],
   "source": [
    "# Iterate through adding icscode\n",
    "for nlc in nlcs:\n",
    "    station = session.query(Stations).filter(Stations.nlc == nlc).one()\n",
    "    ics_object = process_icsCode(station)\n",
    "    station.icscode = ics_object[\"icscode\"]\n",
    "    station.icscode_status = ics_object[\"icscode_status\"]\n",
    "    session.add(station)\n",
    "    session.commit()"
   ]
  }
 ],
 "metadata": {
  "kernelspec": {
   "display_name": "Python 3",
   "language": "python",
   "name": "python3"
  },
  "language_info": {
   "codemirror_mode": {
    "name": "ipython",
    "version": 3
   },
   "file_extension": ".py",
   "mimetype": "text/x-python",
   "name": "python",
   "nbconvert_exporter": "python",
   "pygments_lexer": "ipython3",
   "version": "3.6.1"
  }
 },
 "nbformat": 4,
 "nbformat_minor": 2
}
