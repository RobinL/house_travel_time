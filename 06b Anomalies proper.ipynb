{
 "cells": [
  {
   "cell_type": "code",
   "execution_count": 1,
   "metadata": {},
   "outputs": [
    {
     "name": "stderr",
     "output_type": "stream",
     "text": [
      "/Users/robinlinacre/anaconda/lib/python3.6/site-packages/sqlalchemy/dialects/postgresql/base.py:2526: SAWarning: Did not recognize type 'geometry' of column 'geom'\n",
      "  (attype, name))\n"
     ]
    }
   ],
   "source": [
    "from mylibrary.connections import cursor, conn, engine, Automapped_Base, session\n",
    "import pandas as pd \n",
    "\n",
    "sql = \"\"\"\n",
    "select icscode as icscode_depart, station_name as station_name_depart from tt_h.parsed_rail_journeys\n",
    "where natrail_journey_minutes is null\n",
    "\"\"\"\n",
    "\n",
    "problem_stations = pd.read_sql(sql, conn)\n",
    "problem_stations[\"join\"] = 1"
   ]
  },
  {
   "cell_type": "code",
   "execution_count": 2,
   "metadata": {},
   "outputs": [],
   "source": [
    "# Get list of all cl stations \n",
    "sql = \"\"\"\n",
    "SELECT station_name as station_name_arrive, icscode as icscode_arrive, \"1516_entries_&_exits\"\n",
    "from tt_h.all_stations as s, tt_h.inner_london as ie\n",
    "where ST_Contains(ie.geom, s.geom)\n",
    "order by cast(\"1516_entries_&_exits\" as float) desc\n",
    "limit 10\n",
    "\"\"\"\n",
    "\n",
    "cl_stations = pd.read_sql(sql, conn)\n",
    "cl_stations[\"join\"] = 1"
   ]
  },
  {
   "cell_type": "code",
   "execution_count": 3,
   "metadata": {},
   "outputs": [],
   "source": [
    "to_lookup = pd.merge(problem_stations, cl_stations, on=\"join\")[[\"icscode_depart\", \"station_name_depart\", \"icscode_arrive\", \"station_name_arrive\"]]"
   ]
  },
  {
   "cell_type": "code",
   "execution_count": 4,
   "metadata": {},
   "outputs": [],
   "source": [
    "# to_lookup.to_sql(\"anomalies_tfl_json\", engine, schema=\"tt_h\", if_exists=\"replace\", index=False)"
   ]
  },
  {
   "cell_type": "code",
   "execution_count": 5,
   "metadata": {},
   "outputs": [],
   "source": [
    "# sql = \"\"\"\n",
    "# ALTER TABLE tt_h.anomalies_tfl_json ADD COLUMN id SERIAL PRIMARY KEY;\n",
    "\n",
    "# ALTER TABLE tt_h.anomalies_tfl_json \n",
    "#  ADD tfl_request text, \n",
    "#  ADD tfl_response json,\n",
    "#  ADD querydict json,\n",
    "#  ADD tfl_message text;\n",
    "\n",
    "# \"\"\"\n",
    "# cursor.execute(sql)\n",
    "# conn.commit()"
   ]
  },
  {
   "cell_type": "code",
   "execution_count": 6,
   "metadata": {},
   "outputs": [
    {
     "data": {
      "text/html": [
       "<div>\n",
       "<style>\n",
       "    .dataframe thead tr:only-child th {\n",
       "        text-align: right;\n",
       "    }\n",
       "\n",
       "    .dataframe thead th {\n",
       "        text-align: left;\n",
       "    }\n",
       "\n",
       "    .dataframe tbody tr th {\n",
       "        vertical-align: top;\n",
       "    }\n",
       "</style>\n",
       "<table border=\"1\" class=\"dataframe\">\n",
       "  <thead>\n",
       "    <tr style=\"text-align: right;\">\n",
       "      <th></th>\n",
       "      <th>icscode_depart</th>\n",
       "      <th>station_name_depart</th>\n",
       "      <th>icscode_arrive</th>\n",
       "      <th>station_name_arrive</th>\n",
       "      <th>id</th>\n",
       "      <th>tfl_request</th>\n",
       "      <th>tfl_response</th>\n",
       "      <th>querydict</th>\n",
       "      <th>tfl_message</th>\n",
       "    </tr>\n",
       "  </thead>\n",
       "  <tbody>\n",
       "    <tr>\n",
       "      <th>0</th>\n",
       "      <td>90002286</td>\n",
       "      <td>Dover Priory</td>\n",
       "      <td>1000139</td>\n",
       "      <td>London Bridge</td>\n",
       "      <td>274</td>\n",
       "      <td>https://api.tfl.gov.uk/Journey/JourneyResults/...</td>\n",
       "      <td>{\"$type\":\"Tfl.Api.Presentation.Entities.Journe...</td>\n",
       "      <td>{\"to\": \"1000139\", \"id\": \"cedea352\", \"key\": \"39...</td>\n",
       "      <td>ok</td>\n",
       "    </tr>\n",
       "  </tbody>\n",
       "</table>\n",
       "</div>"
      ],
      "text/plain": [
       "  icscode_depart station_name_depart icscode_arrive station_name_arrive   id  \\\n",
       "0       90002286        Dover Priory        1000139       London Bridge  274   \n",
       "\n",
       "                                         tfl_request  \\\n",
       "0  https://api.tfl.gov.uk/Journey/JourneyResults/...   \n",
       "\n",
       "                                        tfl_response  \\\n",
       "0  {\"$type\":\"Tfl.Api.Presentation.Entities.Journe...   \n",
       "\n",
       "                                           querydict tfl_message  \n",
       "0  {\"to\": \"1000139\", \"id\": \"cedea352\", \"key\": \"39...          ok  "
      ]
     },
     "execution_count": 6,
     "metadata": {},
     "output_type": "execute_result"
    }
   ],
   "source": [
    "pd.read_sql(\"select * from tt_h.anomalies_tfl_json  \", conn).head(1)"
   ]
  },
  {
   "cell_type": "code",
   "execution_count": 8,
   "metadata": {},
   "outputs": [
    {
     "name": "stdout",
     "output_type": "stream",
     "text": [
      "250\n"
     ]
    }
   ],
   "source": [
    "# Now \n",
    "from mylibrary.connections import cursor, conn, engine, Automapped_Base, session\n",
    "import utils\n",
    "from mylibrary.tfl_helpers import get_journeyplanner_results\n",
    "Journeys = Automapped_Base.classes.anomalies_tfl_json\n",
    "\n",
    "sql = \"\"\"\n",
    "select id\n",
    "from tt_h.anomalies_tfl_json\n",
    "where tfl_message != 'ok' or tfl_response is null\n",
    "\"\"\"\n",
    "\n",
    "ids = pd.read_sql(sql, conn)\n",
    "ids = [int(i) for i in ids[\"id\"]]\n",
    "print(len(ids))\n"
   ]
  },
  {
   "cell_type": "code",
   "execution_count": 9,
   "metadata": {},
   "outputs": [
    {
     "name": "stdout",
     "output_type": "stream",
     "text": [
      "5\n",
      "10\n",
      "15\n",
      "20\n",
      "25\n",
      "30\n",
      "35\n",
      "40\n",
      "45\n",
      "50\n",
      "55\n",
      "60\n",
      "65\n",
      "70\n",
      "75\n",
      "80\n",
      "85\n",
      "90\n",
      "95\n",
      "100\n",
      "105\n",
      "110\n",
      "115\n",
      "120\n",
      "125\n",
      "130\n",
      "135\n",
      "140\n",
      "145\n",
      "150\n",
      "155\n",
      "160\n",
      "165\n",
      "170\n",
      "175\n",
      "180\n",
      "185\n",
      "190\n",
      "195\n",
      "200\n",
      "205\n",
      "210\n",
      "215\n",
      "220\n",
      "225\n",
      "230\n",
      "235\n",
      "240\n",
      "245\n",
      "250\n"
     ]
    }
   ],
   "source": [
    "\n",
    "counter = 0\n",
    "for id in ids:\n",
    "    counter +=1\n",
    "    journey = session.query(Journeys).filter(Journeys.id == id).one()\n",
    "\n",
    "    attempts = utils.get_attempt(journey.icscode_arrive, [\"0800\",\"0820\", \"0840\"], [\"20170817\",\"20170906\",\"20170908\"])\n",
    "    for a in attempts:\n",
    "        a[\"from\"] = journey.icscode_depart\n",
    "\n",
    "    journey_object = get_journeyplanner_results(attempts)\n",
    "\n",
    "    journey.tfl_request = journey_object[\"request_url\"]\n",
    "    journey.tfl_response = journey_object[\"tfl_response\"]\n",
    "    journey.querydict = journey_object[\"query_dict\"]\n",
    "    journey.tfl_message = journey_object[\"tfl_message\"]\n",
    "\n",
    "\n",
    "    session.add(journey)\n",
    "\n",
    "    session.commit()\n",
    "    \n",
    "    if counter % 5 == 0:\n",
    "        print(counter)\n",
    "    \n"
   ]
  },
  {
   "cell_type": "code",
   "execution_count": null,
   "metadata": {},
   "outputs": [],
   "source": []
  }
 ],
 "metadata": {
  "kernelspec": {
   "display_name": "Python 3",
   "language": "python",
   "name": "python3"
  },
  "language_info": {
   "codemirror_mode": {
    "name": "ipython",
    "version": 3
   },
   "file_extension": ".py",
   "mimetype": "text/x-python",
   "name": "python",
   "nbconvert_exporter": "python",
   "pygments_lexer": "ipython3",
   "version": "3.6.1"
  }
 },
 "nbformat": 4,
 "nbformat_minor": 2
}
